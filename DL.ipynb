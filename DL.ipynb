{
  "nbformat": 4,
  "nbformat_minor": 0,
  "metadata": {
    "colab": {
      "name": "DL.ipynb",
      "provenance": [],
      "collapsed_sections": [],
      "toc_visible": true,
      "authorship_tag": "ABX9TyOIRxDymslqjKdsWjBnQ/Pd",
      "include_colab_link": true
    },
    "kernelspec": {
      "name": "python3",
      "display_name": "Python 3"
    }
  },
  "cells": [
    {
      "cell_type": "markdown",
      "metadata": {
        "id": "view-in-github",
        "colab_type": "text"
      },
      "source": [
        "<a href=\"https://colab.research.google.com/github/Demesmaeker/DL-wine-quality/blob/main/DL.ipynb\" target=\"_parent\"><img src=\"https://colab.research.google.com/assets/colab-badge.svg\" alt=\"Open In Colab\"/></a>"
      ]
    },
    {
      "cell_type": "code",
      "metadata": {
        "id": "hOti0IxFr7Fk"
      },
      "source": [
        "import pandas as pd\n",
        "import numpy as np\n",
        "import tensorflow as tf\n",
        "from tensorflow import keras\n",
        "from tensorflow.keras.models import Sequential\n",
        "from tensorflow.keras.layers import Dense, Activation, Flatten\n",
        "from matplotlib import pyplot as plt\n",
        "%matplotlib inline"
      ],
      "execution_count": 1,
      "outputs": []
    },
    {
      "cell_type": "code",
      "metadata": {
        "colab": {
          "resources": {
            "http://localhost:8080/nbextensions/google.colab/files.js": {
              "data": "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",
              "ok": true,
              "headers": [
                [
                  "content-type",
                  "application/javascript"
                ]
              ],
              "status": 200,
              "status_text": ""
            }
          },
          "base_uri": "https://localhost:8080/",
          "height": 72
        },
        "id": "fIyEVv1Buou6",
        "outputId": "939f043d-2cc5-4175-bc3e-05f33e77367b"
      },
      "source": [
        "from google.colab import files\n",
        "uploaded = files.upload()"
      ],
      "execution_count": 2,
      "outputs": [
        {
          "output_type": "display_data",
          "data": {
            "text/html": [
              "\n",
              "     <input type=\"file\" id=\"files-fd78c5bd-73b2-40b6-84f7-a873c581e8cb\" name=\"files[]\" multiple disabled\n",
              "        style=\"border:none\" />\n",
              "     <output id=\"result-fd78c5bd-73b2-40b6-84f7-a873c581e8cb\">\n",
              "      Upload widget is only available when the cell has been executed in the\n",
              "      current browser session. Please rerun this cell to enable.\n",
              "      </output>\n",
              "      <script src=\"/nbextensions/google.colab/files.js\"></script> "
            ],
            "text/plain": [
              "<IPython.core.display.HTML object>"
            ]
          },
          "metadata": {
            "tags": []
          }
        },
        {
          "output_type": "stream",
          "text": [
            "Saving wine.csv to wine.csv\n"
          ],
          "name": "stdout"
        }
      ]
    },
    {
      "cell_type": "markdown",
      "metadata": {
        "id": "MPXXkASpuy25"
      },
      "source": [
        "# Exploring & Reshaping the datas"
      ]
    },
    {
      "cell_type": "markdown",
      "metadata": {
        "id": "FswPb_xlwh2c"
      },
      "source": [
        "## Load the dataset"
      ]
    },
    {
      "cell_type": "code",
      "metadata": {
        "colab": {
          "base_uri": "https://localhost:8080/",
          "height": 413
        },
        "id": "LzqXVOBqurpQ",
        "outputId": "410f55f6-9511-4ce0-ead1-312251e7aa31"
      },
      "source": [
        "df = pd.read_csv(\"wine.csv\")\n",
        "df.sample(10)"
      ],
      "execution_count": 3,
      "outputs": [
        {
          "output_type": "execute_result",
          "data": {
            "text/html": [
              "<div>\n",
              "<style scoped>\n",
              "    .dataframe tbody tr th:only-of-type {\n",
              "        vertical-align: middle;\n",
              "    }\n",
              "\n",
              "    .dataframe tbody tr th {\n",
              "        vertical-align: top;\n",
              "    }\n",
              "\n",
              "    .dataframe thead th {\n",
              "        text-align: right;\n",
              "    }\n",
              "</style>\n",
              "<table border=\"1\" class=\"dataframe\">\n",
              "  <thead>\n",
              "    <tr style=\"text-align: right;\">\n",
              "      <th></th>\n",
              "      <th>type</th>\n",
              "      <th>fixed acidity</th>\n",
              "      <th>volatile acidity</th>\n",
              "      <th>citric acid</th>\n",
              "      <th>residual sugar</th>\n",
              "      <th>chlorides</th>\n",
              "      <th>free sulfur dioxide</th>\n",
              "      <th>total sulfur dioxide</th>\n",
              "      <th>density</th>\n",
              "      <th>pH</th>\n",
              "      <th>sulphates</th>\n",
              "      <th>alcohol</th>\n",
              "      <th>quality</th>\n",
              "    </tr>\n",
              "  </thead>\n",
              "  <tbody>\n",
              "    <tr>\n",
              "      <th>5032</th>\n",
              "      <td>red</td>\n",
              "      <td>7.9</td>\n",
              "      <td>1.04</td>\n",
              "      <td>0.05</td>\n",
              "      <td>2.2</td>\n",
              "      <td>0.084</td>\n",
              "      <td>13.0</td>\n",
              "      <td>29.0</td>\n",
              "      <td>0.99590</td>\n",
              "      <td>3.22</td>\n",
              "      <td>0.55</td>\n",
              "      <td>9.9</td>\n",
              "      <td>6</td>\n",
              "    </tr>\n",
              "    <tr>\n",
              "      <th>709</th>\n",
              "      <td>white</td>\n",
              "      <td>6.2</td>\n",
              "      <td>0.47</td>\n",
              "      <td>0.21</td>\n",
              "      <td>1.0</td>\n",
              "      <td>0.044</td>\n",
              "      <td>13.0</td>\n",
              "      <td>98.0</td>\n",
              "      <td>0.99345</td>\n",
              "      <td>3.14</td>\n",
              "      <td>0.46</td>\n",
              "      <td>9.2</td>\n",
              "      <td>5</td>\n",
              "    </tr>\n",
              "    <tr>\n",
              "      <th>3047</th>\n",
              "      <td>white</td>\n",
              "      <td>7.7</td>\n",
              "      <td>0.18</td>\n",
              "      <td>0.53</td>\n",
              "      <td>1.2</td>\n",
              "      <td>0.041</td>\n",
              "      <td>42.0</td>\n",
              "      <td>167.0</td>\n",
              "      <td>0.99080</td>\n",
              "      <td>3.11</td>\n",
              "      <td>0.44</td>\n",
              "      <td>11.9</td>\n",
              "      <td>5</td>\n",
              "    </tr>\n",
              "    <tr>\n",
              "      <th>4297</th>\n",
              "      <td>white</td>\n",
              "      <td>7.0</td>\n",
              "      <td>0.20</td>\n",
              "      <td>0.35</td>\n",
              "      <td>8.8</td>\n",
              "      <td>0.037</td>\n",
              "      <td>31.0</td>\n",
              "      <td>103.0</td>\n",
              "      <td>0.99388</td>\n",
              "      <td>3.13</td>\n",
              "      <td>0.49</td>\n",
              "      <td>11.0</td>\n",
              "      <td>6</td>\n",
              "    </tr>\n",
              "    <tr>\n",
              "      <th>1942</th>\n",
              "      <td>white</td>\n",
              "      <td>8.3</td>\n",
              "      <td>0.36</td>\n",
              "      <td>0.57</td>\n",
              "      <td>15.0</td>\n",
              "      <td>0.052</td>\n",
              "      <td>35.0</td>\n",
              "      <td>256.0</td>\n",
              "      <td>1.00010</td>\n",
              "      <td>2.93</td>\n",
              "      <td>0.64</td>\n",
              "      <td>8.6</td>\n",
              "      <td>5</td>\n",
              "    </tr>\n",
              "    <tr>\n",
              "      <th>6040</th>\n",
              "      <td>red</td>\n",
              "      <td>6.9</td>\n",
              "      <td>0.45</td>\n",
              "      <td>0.11</td>\n",
              "      <td>2.4</td>\n",
              "      <td>0.043</td>\n",
              "      <td>6.0</td>\n",
              "      <td>12.0</td>\n",
              "      <td>0.99354</td>\n",
              "      <td>3.30</td>\n",
              "      <td>0.65</td>\n",
              "      <td>11.4</td>\n",
              "      <td>6</td>\n",
              "    </tr>\n",
              "    <tr>\n",
              "      <th>818</th>\n",
              "      <td>white</td>\n",
              "      <td>6.2</td>\n",
              "      <td>0.30</td>\n",
              "      <td>0.17</td>\n",
              "      <td>2.8</td>\n",
              "      <td>0.040</td>\n",
              "      <td>24.0</td>\n",
              "      <td>125.0</td>\n",
              "      <td>0.99390</td>\n",
              "      <td>3.01</td>\n",
              "      <td>0.46</td>\n",
              "      <td>9.0</td>\n",
              "      <td>5</td>\n",
              "    </tr>\n",
              "    <tr>\n",
              "      <th>1013</th>\n",
              "      <td>white</td>\n",
              "      <td>6.2</td>\n",
              "      <td>0.25</td>\n",
              "      <td>0.47</td>\n",
              "      <td>11.6</td>\n",
              "      <td>0.048</td>\n",
              "      <td>62.0</td>\n",
              "      <td>210.0</td>\n",
              "      <td>0.99680</td>\n",
              "      <td>3.19</td>\n",
              "      <td>0.50</td>\n",
              "      <td>9.5</td>\n",
              "      <td>5</td>\n",
              "    </tr>\n",
              "    <tr>\n",
              "      <th>6046</th>\n",
              "      <td>red</td>\n",
              "      <td>7.8</td>\n",
              "      <td>0.39</td>\n",
              "      <td>0.42</td>\n",
              "      <td>2.0</td>\n",
              "      <td>0.086</td>\n",
              "      <td>9.0</td>\n",
              "      <td>21.0</td>\n",
              "      <td>0.99526</td>\n",
              "      <td>3.39</td>\n",
              "      <td>0.66</td>\n",
              "      <td>11.6</td>\n",
              "      <td>6</td>\n",
              "    </tr>\n",
              "    <tr>\n",
              "      <th>5979</th>\n",
              "      <td>red</td>\n",
              "      <td>7.9</td>\n",
              "      <td>0.30</td>\n",
              "      <td>0.68</td>\n",
              "      <td>8.3</td>\n",
              "      <td>0.050</td>\n",
              "      <td>37.5</td>\n",
              "      <td>289.0</td>\n",
              "      <td>0.99316</td>\n",
              "      <td>3.01</td>\n",
              "      <td>0.51</td>\n",
              "      <td>12.3</td>\n",
              "      <td>7</td>\n",
              "    </tr>\n",
              "  </tbody>\n",
              "</table>\n",
              "</div>"
            ],
            "text/plain": [
              "       type  fixed acidity  volatile acidity  ...  sulphates  alcohol  quality\n",
              "5032    red            7.9              1.04  ...       0.55      9.9        6\n",
              "709   white            6.2              0.47  ...       0.46      9.2        5\n",
              "3047  white            7.7              0.18  ...       0.44     11.9        5\n",
              "4297  white            7.0              0.20  ...       0.49     11.0        6\n",
              "1942  white            8.3              0.36  ...       0.64      8.6        5\n",
              "6040    red            6.9              0.45  ...       0.65     11.4        6\n",
              "818   white            6.2              0.30  ...       0.46      9.0        5\n",
              "1013  white            6.2              0.25  ...       0.50      9.5        5\n",
              "6046    red            7.8              0.39  ...       0.66     11.6        6\n",
              "5979    red            7.9              0.30  ...       0.51     12.3        7\n",
              "\n",
              "[10 rows x 13 columns]"
            ]
          },
          "metadata": {
            "tags": []
          },
          "execution_count": 3
        }
      ]
    },
    {
      "cell_type": "code",
      "metadata": {
        "colab": {
          "base_uri": "https://localhost:8080/"
        },
        "id": "8kJnA_KMu-CE",
        "outputId": "0c71f676-7112-40f9-a999-7347d81193b8"
      },
      "source": [
        "print(df[\"type\"].value_counts())\n",
        "print(df[\"quality\"].value_counts())\n",
        "\n",
        "\n",
        "df.isnull().sum()"
      ],
      "execution_count": 4,
      "outputs": [
        {
          "output_type": "stream",
          "text": [
            "white    4898\n",
            "red      1599\n",
            "Name: type, dtype: int64\n",
            "6    2836\n",
            "5    2138\n",
            "7    1079\n",
            "4     216\n",
            "8     193\n",
            "3      30\n",
            "9       5\n",
            "Name: quality, dtype: int64\n"
          ],
          "name": "stdout"
        },
        {
          "output_type": "execute_result",
          "data": {
            "text/plain": [
              "type                     0\n",
              "fixed acidity           10\n",
              "volatile acidity         8\n",
              "citric acid              3\n",
              "residual sugar           2\n",
              "chlorides                2\n",
              "free sulfur dioxide      0\n",
              "total sulfur dioxide     0\n",
              "density                  0\n",
              "pH                       9\n",
              "sulphates                4\n",
              "alcohol                  0\n",
              "quality                  0\n",
              "dtype: int64"
            ]
          },
          "metadata": {
            "tags": []
          },
          "execution_count": 4
        }
      ]
    },
    {
      "cell_type": "code",
      "metadata": {
        "colab": {
          "base_uri": "https://localhost:8080/"
        },
        "id": "IrHwUZYENXFs",
        "outputId": "193c0ade-5159-4820-d11c-40b9cc6c020a"
      },
      "source": [
        "df = df.dropna()\n",
        "df.isnull().sum()"
      ],
      "execution_count": 5,
      "outputs": [
        {
          "output_type": "execute_result",
          "data": {
            "text/plain": [
              "type                    0\n",
              "fixed acidity           0\n",
              "volatile acidity        0\n",
              "citric acid             0\n",
              "residual sugar          0\n",
              "chlorides               0\n",
              "free sulfur dioxide     0\n",
              "total sulfur dioxide    0\n",
              "density                 0\n",
              "pH                      0\n",
              "sulphates               0\n",
              "alcohol                 0\n",
              "quality                 0\n",
              "dtype: int64"
            ]
          },
          "metadata": {
            "tags": []
          },
          "execution_count": 5
        }
      ]
    },
    {
      "cell_type": "code",
      "metadata": {
        "colab": {
          "base_uri": "https://localhost:8080/"
        },
        "id": "OwUIBv_ZNj3D",
        "outputId": "defed568-38ee-4735-f574-724374322d75"
      },
      "source": [
        "print(df[\"type\"].value_counts())\n",
        "print(df[\"quality\"].value_counts())"
      ],
      "execution_count": 6,
      "outputs": [
        {
          "output_type": "stream",
          "text": [
            "white    4870\n",
            "red      1593\n",
            "Name: type, dtype: int64\n",
            "6    2820\n",
            "5    2128\n",
            "7    1074\n",
            "4     214\n",
            "8     192\n",
            "3      30\n",
            "9       5\n",
            "Name: quality, dtype: int64\n"
          ],
          "name": "stdout"
        }
      ]
    },
    {
      "cell_type": "markdown",
      "metadata": {
        "id": "l9p_3lQlwm_N"
      },
      "source": [
        "## Get Dummies"
      ]
    },
    {
      "cell_type": "code",
      "metadata": {
        "colab": {
          "base_uri": "https://localhost:8080/",
          "height": 413
        },
        "id": "ziGkc-zivSSE",
        "outputId": "16a2951c-9396-44ca-f1a3-1e572eb787f8"
      },
      "source": [
        "wines = pd.get_dummies(df, columns=['type'])\n",
        "wines.sample(10)"
      ],
      "execution_count": 7,
      "outputs": [
        {
          "output_type": "execute_result",
          "data": {
            "text/html": [
              "<div>\n",
              "<style scoped>\n",
              "    .dataframe tbody tr th:only-of-type {\n",
              "        vertical-align: middle;\n",
              "    }\n",
              "\n",
              "    .dataframe tbody tr th {\n",
              "        vertical-align: top;\n",
              "    }\n",
              "\n",
              "    .dataframe thead th {\n",
              "        text-align: right;\n",
              "    }\n",
              "</style>\n",
              "<table border=\"1\" class=\"dataframe\">\n",
              "  <thead>\n",
              "    <tr style=\"text-align: right;\">\n",
              "      <th></th>\n",
              "      <th>fixed acidity</th>\n",
              "      <th>volatile acidity</th>\n",
              "      <th>citric acid</th>\n",
              "      <th>residual sugar</th>\n",
              "      <th>chlorides</th>\n",
              "      <th>free sulfur dioxide</th>\n",
              "      <th>total sulfur dioxide</th>\n",
              "      <th>density</th>\n",
              "      <th>pH</th>\n",
              "      <th>sulphates</th>\n",
              "      <th>alcohol</th>\n",
              "      <th>quality</th>\n",
              "      <th>type_red</th>\n",
              "      <th>type_white</th>\n",
              "    </tr>\n",
              "  </thead>\n",
              "  <tbody>\n",
              "    <tr>\n",
              "      <th>5779</th>\n",
              "      <td>7.6</td>\n",
              "      <td>0.715</td>\n",
              "      <td>0.00</td>\n",
              "      <td>2.1</td>\n",
              "      <td>0.068</td>\n",
              "      <td>30.0</td>\n",
              "      <td>35.0</td>\n",
              "      <td>0.99533</td>\n",
              "      <td>3.48</td>\n",
              "      <td>0.65</td>\n",
              "      <td>11.4</td>\n",
              "      <td>6</td>\n",
              "      <td>1</td>\n",
              "      <td>0</td>\n",
              "    </tr>\n",
              "    <tr>\n",
              "      <th>5472</th>\n",
              "      <td>10.6</td>\n",
              "      <td>0.340</td>\n",
              "      <td>0.49</td>\n",
              "      <td>3.2</td>\n",
              "      <td>0.078</td>\n",
              "      <td>20.0</td>\n",
              "      <td>78.0</td>\n",
              "      <td>0.99920</td>\n",
              "      <td>3.19</td>\n",
              "      <td>0.70</td>\n",
              "      <td>10.0</td>\n",
              "      <td>6</td>\n",
              "      <td>1</td>\n",
              "      <td>0</td>\n",
              "    </tr>\n",
              "    <tr>\n",
              "      <th>6084</th>\n",
              "      <td>6.6</td>\n",
              "      <td>0.800</td>\n",
              "      <td>0.03</td>\n",
              "      <td>7.8</td>\n",
              "      <td>0.079</td>\n",
              "      <td>6.0</td>\n",
              "      <td>12.0</td>\n",
              "      <td>0.99630</td>\n",
              "      <td>3.52</td>\n",
              "      <td>0.50</td>\n",
              "      <td>12.2</td>\n",
              "      <td>5</td>\n",
              "      <td>1</td>\n",
              "      <td>0</td>\n",
              "    </tr>\n",
              "    <tr>\n",
              "      <th>3555</th>\n",
              "      <td>5.8</td>\n",
              "      <td>0.140</td>\n",
              "      <td>0.15</td>\n",
              "      <td>6.1</td>\n",
              "      <td>0.042</td>\n",
              "      <td>27.0</td>\n",
              "      <td>123.0</td>\n",
              "      <td>0.99362</td>\n",
              "      <td>3.06</td>\n",
              "      <td>0.60</td>\n",
              "      <td>9.9</td>\n",
              "      <td>6</td>\n",
              "      <td>0</td>\n",
              "      <td>1</td>\n",
              "    </tr>\n",
              "    <tr>\n",
              "      <th>523</th>\n",
              "      <td>5.8</td>\n",
              "      <td>0.360</td>\n",
              "      <td>0.32</td>\n",
              "      <td>1.7</td>\n",
              "      <td>0.033</td>\n",
              "      <td>22.0</td>\n",
              "      <td>96.0</td>\n",
              "      <td>0.98980</td>\n",
              "      <td>3.03</td>\n",
              "      <td>0.38</td>\n",
              "      <td>11.2</td>\n",
              "      <td>6</td>\n",
              "      <td>0</td>\n",
              "      <td>1</td>\n",
              "    </tr>\n",
              "    <tr>\n",
              "      <th>5392</th>\n",
              "      <td>6.5</td>\n",
              "      <td>0.390</td>\n",
              "      <td>0.23</td>\n",
              "      <td>8.3</td>\n",
              "      <td>0.051</td>\n",
              "      <td>28.0</td>\n",
              "      <td>91.0</td>\n",
              "      <td>0.99520</td>\n",
              "      <td>3.44</td>\n",
              "      <td>0.55</td>\n",
              "      <td>12.1</td>\n",
              "      <td>6</td>\n",
              "      <td>1</td>\n",
              "      <td>0</td>\n",
              "    </tr>\n",
              "    <tr>\n",
              "      <th>3862</th>\n",
              "      <td>6.5</td>\n",
              "      <td>0.270</td>\n",
              "      <td>0.19</td>\n",
              "      <td>6.6</td>\n",
              "      <td>0.045</td>\n",
              "      <td>98.0</td>\n",
              "      <td>175.0</td>\n",
              "      <td>0.99364</td>\n",
              "      <td>3.16</td>\n",
              "      <td>0.34</td>\n",
              "      <td>10.1</td>\n",
              "      <td>6</td>\n",
              "      <td>0</td>\n",
              "      <td>1</td>\n",
              "    </tr>\n",
              "    <tr>\n",
              "      <th>3661</th>\n",
              "      <td>6.7</td>\n",
              "      <td>0.220</td>\n",
              "      <td>0.39</td>\n",
              "      <td>1.2</td>\n",
              "      <td>0.049</td>\n",
              "      <td>26.0</td>\n",
              "      <td>152.0</td>\n",
              "      <td>0.99346</td>\n",
              "      <td>3.50</td>\n",
              "      <td>0.47</td>\n",
              "      <td>10.0</td>\n",
              "      <td>6</td>\n",
              "      <td>0</td>\n",
              "      <td>1</td>\n",
              "    </tr>\n",
              "    <tr>\n",
              "      <th>973</th>\n",
              "      <td>6.5</td>\n",
              "      <td>0.080</td>\n",
              "      <td>0.33</td>\n",
              "      <td>1.9</td>\n",
              "      <td>0.028</td>\n",
              "      <td>23.0</td>\n",
              "      <td>93.0</td>\n",
              "      <td>0.99100</td>\n",
              "      <td>3.34</td>\n",
              "      <td>0.70</td>\n",
              "      <td>12.0</td>\n",
              "      <td>7</td>\n",
              "      <td>0</td>\n",
              "      <td>1</td>\n",
              "    </tr>\n",
              "    <tr>\n",
              "      <th>5996</th>\n",
              "      <td>8.0</td>\n",
              "      <td>0.310</td>\n",
              "      <td>0.45</td>\n",
              "      <td>2.1</td>\n",
              "      <td>0.216</td>\n",
              "      <td>5.0</td>\n",
              "      <td>16.0</td>\n",
              "      <td>0.99358</td>\n",
              "      <td>3.15</td>\n",
              "      <td>0.81</td>\n",
              "      <td>12.5</td>\n",
              "      <td>7</td>\n",
              "      <td>1</td>\n",
              "      <td>0</td>\n",
              "    </tr>\n",
              "  </tbody>\n",
              "</table>\n",
              "</div>"
            ],
            "text/plain": [
              "      fixed acidity  volatile acidity  ...  type_red  type_white\n",
              "5779            7.6             0.715  ...         1           0\n",
              "5472           10.6             0.340  ...         1           0\n",
              "6084            6.6             0.800  ...         1           0\n",
              "3555            5.8             0.140  ...         0           1\n",
              "523             5.8             0.360  ...         0           1\n",
              "5392            6.5             0.390  ...         1           0\n",
              "3862            6.5             0.270  ...         0           1\n",
              "3661            6.7             0.220  ...         0           1\n",
              "973             6.5             0.080  ...         0           1\n",
              "5996            8.0             0.310  ...         1           0\n",
              "\n",
              "[10 rows x 14 columns]"
            ]
          },
          "metadata": {
            "tags": []
          },
          "execution_count": 7
        }
      ]
    },
    {
      "cell_type": "code",
      "metadata": {
        "id": "H_sdcNSBS1Rn"
      },
      "source": [
        "from keras.utils import to_categorical\n",
        "\n",
        "y = to_categorical(wines.iloc[:,-3:-2].to_numpy())"
      ],
      "execution_count": 8,
      "outputs": []
    },
    {
      "cell_type": "code",
      "metadata": {
        "colab": {
          "base_uri": "https://localhost:8080/"
        },
        "id": "bR60bpuBUQ98",
        "outputId": "fac78016-21c1-4e74-fb37-c123b4633f0a"
      },
      "source": [
        "y.shape"
      ],
      "execution_count": 9,
      "outputs": [
        {
          "output_type": "execute_result",
          "data": {
            "text/plain": [
              "(6463, 10)"
            ]
          },
          "metadata": {
            "tags": []
          },
          "execution_count": 9
        }
      ]
    },
    {
      "cell_type": "markdown",
      "metadata": {
        "id": "IotOqKYOwxr8"
      },
      "source": [
        "## Split the dataset"
      ]
    },
    {
      "cell_type": "code",
      "metadata": {
        "colab": {
          "base_uri": "https://localhost:8080/"
        },
        "id": "lCspc0hgwZft",
        "outputId": "a7ce6c9d-e8b0-4f46-aae6-116c34a35b89"
      },
      "source": [
        "x = wines.iloc[:,:-3].join(wines['type_red'].to_frame()\n",
        "                    ).join(wines['type_white'].to_frame()).to_numpy()\n",
        "\n",
        "print(x.shape)\n",
        "print(y.shape)"
      ],
      "execution_count": 10,
      "outputs": [
        {
          "output_type": "stream",
          "text": [
            "(6463, 13)\n",
            "(6463, 10)\n"
          ],
          "name": "stdout"
        }
      ]
    },
    {
      "cell_type": "code",
      "metadata": {
        "id": "1V7yuRvcxLA9"
      },
      "source": [
        "from sklearn.model_selection import train_test_split\n",
        "X_train, X_test, y_train, y_test = train_test_split(x, y, test_size=0.2)"
      ],
      "execution_count": 11,
      "outputs": []
    },
    {
      "cell_type": "code",
      "metadata": {
        "colab": {
          "base_uri": "https://localhost:8080/"
        },
        "id": "V9hJKX7GxORZ",
        "outputId": "07b25aa9-1c20-4077-d903-4d836cb128cc"
      },
      "source": [
        "print(X_train.shape)\n",
        "print(X_test.shape)\n",
        "print(y_train.shape)\n",
        "print(y_test.shape)"
      ],
      "execution_count": 12,
      "outputs": [
        {
          "output_type": "stream",
          "text": [
            "(5170, 13)\n",
            "(1293, 13)\n",
            "(5170, 10)\n",
            "(1293, 10)\n"
          ],
          "name": "stdout"
        }
      ]
    },
    {
      "cell_type": "markdown",
      "metadata": {
        "id": "2hGYeCovx6R8"
      },
      "source": [
        "# Building the Neural Network"
      ]
    },
    {
      "cell_type": "markdown",
      "metadata": {
        "id": "LSoyzrmTyEb-"
      },
      "source": [
        "## Create the Model"
      ]
    },
    {
      "cell_type": "code",
      "metadata": {
        "id": "VSlQYbxbx2_s"
      },
      "source": [
        "model = Sequential()"
      ],
      "execution_count": 13,
      "outputs": []
    },
    {
      "cell_type": "markdown",
      "metadata": {
        "id": "SUIb59YYyJB2"
      },
      "source": [
        "## Add the layers"
      ]
    },
    {
      "cell_type": "code",
      "metadata": {
        "id": "aKOr_ZIgyIWQ"
      },
      "source": [
        "model.add(Dense(64, input_dim=13, activation='relu'))\n",
        "model.add(Flatten())\n",
        "model.add(Dense(42, activation='relu'))\n",
        "model.add(Flatten())\n",
        "model.add(Dense(16, activation='relu'))\n",
        "model.add(Flatten())\n",
        "model.add(Dense(10, activation='sigmoid'))"
      ],
      "execution_count": 14,
      "outputs": []
    },
    {
      "cell_type": "markdown",
      "metadata": {
        "id": "HAP8V7-BzF0y"
      },
      "source": [
        "# Compiling the Model"
      ]
    },
    {
      "cell_type": "code",
      "metadata": {
        "id": "XGhv5Wh5zCWc"
      },
      "source": [
        "model.compile(loss=keras.losses.categorical_crossentropy,\n",
        "              optimizer=\"adam\",\n",
        "              metrics=['accuracy'])"
      ],
      "execution_count": 15,
      "outputs": []
    },
    {
      "cell_type": "markdown",
      "metadata": {
        "id": "D8OmMVQvzsDZ"
      },
      "source": [
        "# Training"
      ]
    },
    {
      "cell_type": "code",
      "metadata": {
        "colab": {
          "base_uri": "https://localhost:8080/"
        },
        "id": "Kq-_46760INI",
        "outputId": "444ef5a0-6666-4a97-ae9c-128a1950a9a6"
      },
      "source": [
        "history = model.fit(X_train, y_train, epochs=100)"
      ],
      "execution_count": 16,
      "outputs": [
        {
          "output_type": "stream",
          "text": [
            "Epoch 1/100\n",
            "162/162 [==============================] - 1s 2ms/step - loss: 4.9571 - accuracy: 0.3076\n",
            "Epoch 2/100\n",
            "162/162 [==============================] - 0s 2ms/step - loss: 1.2509 - accuracy: 0.4653\n",
            "Epoch 3/100\n",
            "162/162 [==============================] - 0s 2ms/step - loss: 1.3078 - accuracy: 0.4407\n",
            "Epoch 4/100\n",
            "162/162 [==============================] - 0s 2ms/step - loss: 1.2287 - accuracy: 0.4658\n",
            "Epoch 5/100\n",
            "162/162 [==============================] - 0s 2ms/step - loss: 1.1992 - accuracy: 0.4812\n",
            "Epoch 6/100\n",
            "162/162 [==============================] - 0s 2ms/step - loss: 1.2146 - accuracy: 0.4738\n",
            "Epoch 7/100\n",
            "162/162 [==============================] - 0s 1ms/step - loss: 1.1629 - accuracy: 0.4909\n",
            "Epoch 8/100\n",
            "162/162 [==============================] - 0s 2ms/step - loss: 1.1765 - accuracy: 0.4990\n",
            "Epoch 9/100\n",
            "162/162 [==============================] - 0s 2ms/step - loss: 1.1943 - accuracy: 0.4979\n",
            "Epoch 10/100\n",
            "162/162 [==============================] - 0s 2ms/step - loss: 1.1405 - accuracy: 0.5184\n",
            "Epoch 11/100\n",
            "162/162 [==============================] - 0s 2ms/step - loss: 1.1302 - accuracy: 0.5023\n",
            "Epoch 12/100\n",
            "162/162 [==============================] - 0s 1ms/step - loss: 1.1664 - accuracy: 0.5003\n",
            "Epoch 13/100\n",
            "162/162 [==============================] - 0s 2ms/step - loss: 1.1420 - accuracy: 0.4966\n",
            "Epoch 14/100\n",
            "162/162 [==============================] - 0s 2ms/step - loss: 1.1500 - accuracy: 0.4830\n",
            "Epoch 15/100\n",
            "162/162 [==============================] - 0s 1ms/step - loss: 1.1121 - accuracy: 0.4999\n",
            "Epoch 16/100\n",
            "162/162 [==============================] - 0s 1ms/step - loss: 1.1267 - accuracy: 0.5033\n",
            "Epoch 17/100\n",
            "162/162 [==============================] - 0s 2ms/step - loss: 1.1267 - accuracy: 0.5151\n",
            "Epoch 18/100\n",
            "162/162 [==============================] - 0s 2ms/step - loss: 1.1145 - accuracy: 0.5094\n",
            "Epoch 19/100\n",
            "162/162 [==============================] - 0s 2ms/step - loss: 1.1095 - accuracy: 0.5119\n",
            "Epoch 20/100\n",
            "162/162 [==============================] - 0s 2ms/step - loss: 1.1167 - accuracy: 0.4988\n",
            "Epoch 21/100\n",
            "162/162 [==============================] - 0s 2ms/step - loss: 1.0987 - accuracy: 0.5165\n",
            "Epoch 22/100\n",
            "162/162 [==============================] - 0s 2ms/step - loss: 1.1003 - accuracy: 0.5159\n",
            "Epoch 23/100\n",
            "162/162 [==============================] - 0s 2ms/step - loss: 1.1073 - accuracy: 0.5112\n",
            "Epoch 24/100\n",
            "162/162 [==============================] - 0s 2ms/step - loss: 1.1471 - accuracy: 0.4894\n",
            "Epoch 25/100\n",
            "162/162 [==============================] - 0s 2ms/step - loss: 1.1021 - accuracy: 0.5147\n",
            "Epoch 26/100\n",
            "162/162 [==============================] - 0s 2ms/step - loss: 1.0981 - accuracy: 0.5178\n",
            "Epoch 27/100\n",
            "162/162 [==============================] - 0s 2ms/step - loss: 1.0906 - accuracy: 0.5061\n",
            "Epoch 28/100\n",
            "162/162 [==============================] - 0s 2ms/step - loss: 1.1002 - accuracy: 0.5061\n",
            "Epoch 29/100\n",
            "162/162 [==============================] - 0s 2ms/step - loss: 1.0716 - accuracy: 0.5294\n",
            "Epoch 30/100\n",
            "162/162 [==============================] - 0s 2ms/step - loss: 1.1017 - accuracy: 0.5037\n",
            "Epoch 31/100\n",
            "162/162 [==============================] - 0s 2ms/step - loss: 1.0751 - accuracy: 0.5174\n",
            "Epoch 32/100\n",
            "162/162 [==============================] - 0s 2ms/step - loss: 1.0852 - accuracy: 0.5125\n",
            "Epoch 33/100\n",
            "162/162 [==============================] - 0s 2ms/step - loss: 1.0749 - accuracy: 0.5293\n",
            "Epoch 34/100\n",
            "162/162 [==============================] - 0s 2ms/step - loss: 1.0844 - accuracy: 0.5201\n",
            "Epoch 35/100\n",
            "162/162 [==============================] - 0s 2ms/step - loss: 1.0982 - accuracy: 0.5196\n",
            "Epoch 36/100\n",
            "162/162 [==============================] - 0s 2ms/step - loss: 1.0797 - accuracy: 0.5232\n",
            "Epoch 37/100\n",
            "162/162 [==============================] - 0s 2ms/step - loss: 1.0575 - accuracy: 0.5320\n",
            "Epoch 38/100\n",
            "162/162 [==============================] - 0s 2ms/step - loss: 1.0829 - accuracy: 0.5192\n",
            "Epoch 39/100\n",
            "162/162 [==============================] - 0s 2ms/step - loss: 1.0377 - accuracy: 0.5469\n",
            "Epoch 40/100\n",
            "162/162 [==============================] - 0s 2ms/step - loss: 1.0910 - accuracy: 0.5175\n",
            "Epoch 41/100\n",
            "162/162 [==============================] - 0s 2ms/step - loss: 1.0543 - accuracy: 0.5322\n",
            "Epoch 42/100\n",
            "162/162 [==============================] - 0s 2ms/step - loss: 1.0406 - accuracy: 0.5372\n",
            "Epoch 43/100\n",
            "162/162 [==============================] - 0s 2ms/step - loss: 1.0440 - accuracy: 0.5445\n",
            "Epoch 44/100\n",
            "162/162 [==============================] - 0s 2ms/step - loss: 1.0542 - accuracy: 0.5259\n",
            "Epoch 45/100\n",
            "162/162 [==============================] - 0s 2ms/step - loss: 1.0533 - accuracy: 0.5376\n",
            "Epoch 46/100\n",
            "162/162 [==============================] - 0s 2ms/step - loss: 1.0777 - accuracy: 0.5301\n",
            "Epoch 47/100\n",
            "162/162 [==============================] - 0s 2ms/step - loss: 1.0405 - accuracy: 0.5369\n",
            "Epoch 48/100\n",
            "162/162 [==============================] - 0s 2ms/step - loss: 1.0584 - accuracy: 0.5351\n",
            "Epoch 49/100\n",
            "162/162 [==============================] - 0s 2ms/step - loss: 1.0805 - accuracy: 0.5366\n",
            "Epoch 50/100\n",
            "162/162 [==============================] - 0s 2ms/step - loss: 1.0483 - accuracy: 0.5224\n",
            "Epoch 51/100\n",
            "162/162 [==============================] - 0s 2ms/step - loss: 1.0739 - accuracy: 0.5405\n",
            "Epoch 52/100\n",
            "162/162 [==============================] - 0s 2ms/step - loss: 1.0445 - accuracy: 0.5284\n",
            "Epoch 53/100\n",
            "162/162 [==============================] - 0s 2ms/step - loss: 1.0385 - accuracy: 0.5402\n",
            "Epoch 54/100\n",
            "162/162 [==============================] - 0s 2ms/step - loss: 1.0489 - accuracy: 0.5293\n",
            "Epoch 55/100\n",
            "162/162 [==============================] - 0s 2ms/step - loss: 1.0439 - accuracy: 0.5395\n",
            "Epoch 56/100\n",
            "162/162 [==============================] - 0s 2ms/step - loss: 1.0826 - accuracy: 0.5349\n",
            "Epoch 57/100\n",
            "162/162 [==============================] - 0s 2ms/step - loss: 1.0380 - accuracy: 0.5402\n",
            "Epoch 58/100\n",
            "162/162 [==============================] - 0s 2ms/step - loss: 1.0292 - accuracy: 0.5521\n",
            "Epoch 59/100\n",
            "162/162 [==============================] - 0s 2ms/step - loss: 1.0586 - accuracy: 0.5325\n",
            "Epoch 60/100\n",
            "162/162 [==============================] - 0s 2ms/step - loss: 1.0701 - accuracy: 0.5313\n",
            "Epoch 61/100\n",
            "162/162 [==============================] - 0s 2ms/step - loss: 1.0455 - accuracy: 0.5425\n",
            "Epoch 62/100\n",
            "162/162 [==============================] - 0s 2ms/step - loss: 1.0309 - accuracy: 0.5442\n",
            "Epoch 63/100\n",
            "162/162 [==============================] - 0s 2ms/step - loss: 1.0494 - accuracy: 0.5365\n",
            "Epoch 64/100\n",
            "162/162 [==============================] - 0s 1ms/step - loss: 1.0490 - accuracy: 0.5353\n",
            "Epoch 65/100\n",
            "162/162 [==============================] - 0s 2ms/step - loss: 1.0666 - accuracy: 0.5261\n",
            "Epoch 66/100\n",
            "162/162 [==============================] - 0s 2ms/step - loss: 1.0267 - accuracy: 0.5529\n",
            "Epoch 67/100\n",
            "162/162 [==============================] - 0s 2ms/step - loss: 1.0356 - accuracy: 0.5444\n",
            "Epoch 68/100\n",
            "162/162 [==============================] - 0s 2ms/step - loss: 1.0268 - accuracy: 0.5486\n",
            "Epoch 69/100\n",
            "162/162 [==============================] - 0s 2ms/step - loss: 1.0334 - accuracy: 0.5480\n",
            "Epoch 70/100\n",
            "162/162 [==============================] - 0s 2ms/step - loss: 1.0561 - accuracy: 0.5398\n",
            "Epoch 71/100\n",
            "162/162 [==============================] - 0s 2ms/step - loss: 1.0377 - accuracy: 0.5395\n",
            "Epoch 72/100\n",
            "162/162 [==============================] - 0s 2ms/step - loss: 1.0226 - accuracy: 0.5443\n",
            "Epoch 73/100\n",
            "162/162 [==============================] - 0s 2ms/step - loss: 1.0459 - accuracy: 0.5310\n",
            "Epoch 74/100\n",
            "162/162 [==============================] - 0s 2ms/step - loss: 1.0338 - accuracy: 0.5415\n",
            "Epoch 75/100\n",
            "162/162 [==============================] - 0s 1ms/step - loss: 1.0402 - accuracy: 0.5400\n",
            "Epoch 76/100\n",
            "162/162 [==============================] - 0s 2ms/step - loss: 1.0334 - accuracy: 0.5402\n",
            "Epoch 77/100\n",
            "162/162 [==============================] - 0s 1ms/step - loss: 1.0514 - accuracy: 0.5358\n",
            "Epoch 78/100\n",
            "162/162 [==============================] - 0s 2ms/step - loss: 1.0658 - accuracy: 0.5176\n",
            "Epoch 79/100\n",
            "162/162 [==============================] - 0s 2ms/step - loss: 1.0543 - accuracy: 0.5388\n",
            "Epoch 80/100\n",
            "162/162 [==============================] - 0s 2ms/step - loss: 1.0562 - accuracy: 0.5297\n",
            "Epoch 81/100\n",
            "162/162 [==============================] - 0s 2ms/step - loss: 1.0143 - accuracy: 0.5530\n",
            "Epoch 82/100\n",
            "162/162 [==============================] - 0s 2ms/step - loss: 1.0325 - accuracy: 0.5524\n",
            "Epoch 83/100\n",
            "162/162 [==============================] - 0s 1ms/step - loss: 1.0239 - accuracy: 0.5413\n",
            "Epoch 84/100\n",
            "162/162 [==============================] - 0s 2ms/step - loss: 1.0283 - accuracy: 0.5513\n",
            "Epoch 85/100\n",
            "162/162 [==============================] - 0s 2ms/step - loss: 1.0403 - accuracy: 0.5339\n",
            "Epoch 86/100\n",
            "162/162 [==============================] - 0s 2ms/step - loss: 1.0309 - accuracy: 0.5426\n",
            "Epoch 87/100\n",
            "162/162 [==============================] - 0s 2ms/step - loss: 1.0243 - accuracy: 0.5451\n",
            "Epoch 88/100\n",
            "162/162 [==============================] - 0s 2ms/step - loss: 1.0312 - accuracy: 0.5514\n",
            "Epoch 89/100\n",
            "162/162 [==============================] - 0s 2ms/step - loss: 1.0367 - accuracy: 0.5416\n",
            "Epoch 90/100\n",
            "162/162 [==============================] - 0s 2ms/step - loss: 1.0060 - accuracy: 0.5590\n",
            "Epoch 91/100\n",
            "162/162 [==============================] - 0s 2ms/step - loss: 1.0300 - accuracy: 0.5434\n",
            "Epoch 92/100\n",
            "162/162 [==============================] - 0s 2ms/step - loss: 1.0409 - accuracy: 0.5429\n",
            "Epoch 93/100\n",
            "162/162 [==============================] - 0s 2ms/step - loss: 1.0318 - accuracy: 0.5516\n",
            "Epoch 94/100\n",
            "162/162 [==============================] - 0s 2ms/step - loss: 1.0242 - accuracy: 0.5526\n",
            "Epoch 95/100\n",
            "162/162 [==============================] - 0s 2ms/step - loss: 1.0253 - accuracy: 0.5491\n",
            "Epoch 96/100\n",
            "162/162 [==============================] - 0s 2ms/step - loss: 1.0166 - accuracy: 0.5466\n",
            "Epoch 97/100\n",
            "162/162 [==============================] - 0s 2ms/step - loss: 1.0071 - accuracy: 0.5479\n",
            "Epoch 98/100\n",
            "162/162 [==============================] - 0s 2ms/step - loss: 1.0543 - accuracy: 0.5321\n",
            "Epoch 99/100\n",
            "162/162 [==============================] - 0s 2ms/step - loss: 1.0267 - accuracy: 0.5629\n",
            "Epoch 100/100\n",
            "162/162 [==============================] - 0s 2ms/step - loss: 1.0153 - accuracy: 0.5510\n"
          ],
          "name": "stdout"
        }
      ]
    },
    {
      "cell_type": "code",
      "metadata": {
        "colab": {
          "base_uri": "https://localhost:8080/"
        },
        "id": "rqGmYuQbz9oE",
        "outputId": "f0d65b19-bfb6-4385-cefc-c7b1f61d80cd"
      },
      "source": [
        "scores = model.evaluate(X_test, y_test)\n",
        "\n",
        "print(\"\\n%s: %.2f%%\" % (model.metrics_names[1], scores[1]*100))"
      ],
      "execution_count": 17,
      "outputs": [
        {
          "output_type": "stream",
          "text": [
            "41/41 [==============================] - 0s 1ms/step - loss: 1.0623 - accuracy: 0.5514\n",
            "\n",
            "accuracy: 55.14%\n"
          ],
          "name": "stdout"
        }
      ]
    },
    {
      "cell_type": "markdown",
      "metadata": {
        "id": "MR5-vONbPWBu"
      },
      "source": [
        "# Evaluation"
      ]
    },
    {
      "cell_type": "code",
      "metadata": {
        "colab": {
          "base_uri": "https://localhost:8080/"
        },
        "id": "Y8HYJ41-PdfL",
        "outputId": "fc11b11c-d6ee-45a9-8591-ef144ef2dc4e"
      },
      "source": [
        "model.summary()"
      ],
      "execution_count": 18,
      "outputs": [
        {
          "output_type": "stream",
          "text": [
            "Model: \"sequential\"\n",
            "_________________________________________________________________\n",
            "Layer (type)                 Output Shape              Param #   \n",
            "=================================================================\n",
            "dense (Dense)                (None, 64)                896       \n",
            "_________________________________________________________________\n",
            "flatten (Flatten)            (None, 64)                0         \n",
            "_________________________________________________________________\n",
            "dense_1 (Dense)              (None, 42)                2730      \n",
            "_________________________________________________________________\n",
            "flatten_1 (Flatten)          (None, 42)                0         \n",
            "_________________________________________________________________\n",
            "dense_2 (Dense)              (None, 16)                688       \n",
            "_________________________________________________________________\n",
            "flatten_2 (Flatten)          (None, 16)                0         \n",
            "_________________________________________________________________\n",
            "dense_3 (Dense)              (None, 10)                170       \n",
            "=================================================================\n",
            "Total params: 4,484\n",
            "Trainable params: 4,484\n",
            "Non-trainable params: 0\n",
            "_________________________________________________________________\n"
          ],
          "name": "stdout"
        }
      ]
    },
    {
      "cell_type": "code",
      "metadata": {
        "colab": {
          "base_uri": "https://localhost:8080/"
        },
        "id": "egyiEl7wPkQ7",
        "outputId": "c6dc1332-8212-4ff4-8ad2-9c9742a001ae"
      },
      "source": [
        "from sklearn.metrics import accuracy_score, confusion_matrix\n",
        "predictions = model.predict(X_test)\n",
        "print(\"Accuracy: %\", accuracy_score(y_test.argmax(axis=1), predictions.argmax(axis=1)) * 100)\n",
        "\n",
        "correct_preds = (y_test.argmax(axis=1) == predictions.argmax(axis=1))\n",
        "print(\"That means that out of\", y_test.shape[0] ,\"test samples, this model got\", \n",
        "      np.where(correct_preds)[0].size, \"correct and\",\n",
        "      np.where(~correct_preds)[0].size, \"incorrect\")"
      ],
      "execution_count": 19,
      "outputs": [
        {
          "output_type": "stream",
          "text": [
            "Accuracy: % 55.1430781129157\n",
            "That means that out of 1293 test samples, this model got 713 correct and 580 incorrect\n"
          ],
          "name": "stdout"
        }
      ]
    },
    {
      "cell_type": "markdown",
      "metadata": {
        "id": "WmrFP20BPstk"
      },
      "source": [
        "## Plots"
      ]
    },
    {
      "cell_type": "code",
      "metadata": {
        "colab": {
          "base_uri": "https://localhost:8080/"
        },
        "id": "haKC2YW6PvFC",
        "outputId": "94a95b84-05c2-4c75-d6f0-b1c8712b670c"
      },
      "source": [
        "print(history.history.keys())"
      ],
      "execution_count": 20,
      "outputs": [
        {
          "output_type": "stream",
          "text": [
            "dict_keys(['loss', 'accuracy'])\n"
          ],
          "name": "stdout"
        }
      ]
    },
    {
      "cell_type": "code",
      "metadata": {
        "colab": {
          "base_uri": "https://localhost:8080/",
          "height": 295
        },
        "id": "kQo35nKBPyin",
        "outputId": "886538b7-f765-4c81-be3d-306acade1179"
      },
      "source": [
        "loss = history.history['loss']\n",
        "accuracy = history.history['accuracy']\n",
        "\n",
        "fig, axs = plt.subplots(nrows=1,ncols=2,figsize=(10,4))\n",
        "axs[0].plot(range(len(loss)), loss)\n",
        "axs[0].set(xlabel=\"Epochs\", ylabel=\"Loss\", title=\"Training loss\")\n",
        "axs[1].plot(range(len(accuracy)), accuracy)\n",
        "axs[1].set(xlabel=\"Epochs\", ylabel=\"Accuracy\", title=\"Training accuracy\")\n",
        "plt.show()"
      ],
      "execution_count": 21,
      "outputs": [
        {
          "output_type": "display_data",
          "data": {
            "image/png": "[encoded data removed]",
            "text/plain": [
              "<Figure size 720x288 with 2 Axes>"
            ]
          },
          "metadata": {
            "tags": [],
            "needs_background": "light"
          }
        }
      ]
    }
  ]
}