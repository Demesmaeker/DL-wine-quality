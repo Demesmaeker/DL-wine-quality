{
  "nbformat": 4,
  "nbformat_minor": 0,
  "metadata": {
    "colab": {
      "name": "DL2.ipynb",
      "provenance": [],
      "collapsed_sections": [],
      "authorship_tag": "ABX9TyMhfrn+NQUz2VsRbKMbQ/Y0",
      "include_colab_link": true
    },
    "kernelspec": {
      "name": "python3",
      "display_name": "Python 3"
    }
  },
  "cells": [
    {
      "cell_type": "markdown",
      "metadata": {
        "id": "view-in-github",
        "colab_type": "text"
      },
      "source": [
        "<a href=\"https://colab.research.google.com/github/Demesmaeker/DL-wine-quality/blob/main/DL2.ipynb\" target=\"_parent\"><img src=\"https://colab.research.google.com/assets/colab-badge.svg\" alt=\"Open In Colab\"/></a>"
      ]
    },
    {
      "cell_type": "code",
      "metadata": {
        "id": "hOti0IxFr7Fk"
      },
      "source": [
        "import pandas as pd\n",
        "import numpy as np\n",
        "import tensorflow as tf\n",
        "from tensorflow import keras\n",
        "from tensorflow.keras.models import Sequential\n",
        "from tensorflow.keras.layers import Dense, Activation, Flatten\n",
        "from matplotlib import pyplot as plt\n",
        "%matplotlib inline"
      ],
      "execution_count": 1,
      "outputs": []
    },
    {
      "cell_type": "code",
      "metadata": {
        "colab": {
          "resources": {
            "http://localhost:8080/nbextensions/google.colab/files.js": {
              "data": "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",
              "ok": true,
              "headers": [
                [
                  "content-type",
                  "application/javascript"
                ]
              ],
              "status": 200,
              "status_text": ""
            }
          },
          "base_uri": "https://localhost:8080/",
          "height": 72
        },
        "id": "fIyEVv1Buou6",
        "outputId": "b6eccca0-b322-454c-a9c3-4683a87d3e3d"
      },
      "source": [
        "from google.colab import files\n",
        "uploaded = files.upload()"
      ],
      "execution_count": 2,
      "outputs": [
        {
          "output_type": "display_data",
          "data": {
            "text/html": [
              "\n",
              "     <input type=\"file\" id=\"files-4f062a2e-ec4c-4af6-93e5-adf5d7e83791\" name=\"files[]\" multiple disabled\n",
              "        style=\"border:none\" />\n",
              "     <output id=\"result-4f062a2e-ec4c-4af6-93e5-adf5d7e83791\">\n",
              "      Upload widget is only available when the cell has been executed in the\n",
              "      current browser session. Please rerun this cell to enable.\n",
              "      </output>\n",
              "      <script src=\"/nbextensions/google.colab/files.js\"></script> "
            ],
            "text/plain": [
              "<IPython.core.display.HTML object>"
            ]
          },
          "metadata": {
            "tags": []
          }
        },
        {
          "output_type": "stream",
          "text": [
            "Saving wine.csv to wine.csv\n"
          ],
          "name": "stdout"
        }
      ]
    },
    {
      "cell_type": "markdown",
      "metadata": {
        "id": "MPXXkASpuy25"
      },
      "source": [
        "# Exploring & Reshaping the datas"
      ]
    },
    {
      "cell_type": "markdown",
      "metadata": {
        "id": "FswPb_xlwh2c"
      },
      "source": [
        "## Load the dataset"
      ]
    },
    {
      "cell_type": "code",
      "metadata": {
        "colab": {
          "base_uri": "https://localhost:8080/",
          "height": 376
        },
        "id": "LzqXVOBqurpQ",
        "outputId": "e5d73507-89d1-4b46-a70c-b407bb479863"
      },
      "source": [
        "df = pd.read_csv(\"wine.csv\")\n",
        "df.sample(10)"
      ],
      "execution_count": 3,
      "outputs": [
        {
          "output_type": "execute_result",
          "data": {
            "text/html": [
              "<div>\n",
              "<style scoped>\n",
              "    .dataframe tbody tr th:only-of-type {\n",
              "        vertical-align: middle;\n",
              "    }\n",
              "\n",
              "    .dataframe tbody tr th {\n",
              "        vertical-align: top;\n",
              "    }\n",
              "\n",
              "    .dataframe thead th {\n",
              "        text-align: right;\n",
              "    }\n",
              "</style>\n",
              "<table border=\"1\" class=\"dataframe\">\n",
              "  <thead>\n",
              "    <tr style=\"text-align: right;\">\n",
              "      <th></th>\n",
              "      <th>type</th>\n",
              "      <th>fixed acidity</th>\n",
              "      <th>volatile acidity</th>\n",
              "      <th>citric acid</th>\n",
              "      <th>residual sugar</th>\n",
              "      <th>chlorides</th>\n",
              "      <th>free sulfur dioxide</th>\n",
              "      <th>total sulfur dioxide</th>\n",
              "      <th>density</th>\n",
              "      <th>pH</th>\n",
              "      <th>sulphates</th>\n",
              "      <th>alcohol</th>\n",
              "      <th>quality</th>\n",
              "    </tr>\n",
              "  </thead>\n",
              "  <tbody>\n",
              "    <tr>\n",
              "      <th>5798</th>\n",
              "      <td>red</td>\n",
              "      <td>8.9</td>\n",
              "      <td>0.31</td>\n",
              "      <td>0.36</td>\n",
              "      <td>2.6</td>\n",
              "      <td>0.056</td>\n",
              "      <td>10.0</td>\n",
              "      <td>39.0</td>\n",
              "      <td>0.99562</td>\n",
              "      <td>3.40</td>\n",
              "      <td>0.69</td>\n",
              "      <td>11.8</td>\n",
              "      <td>5</td>\n",
              "    </tr>\n",
              "    <tr>\n",
              "      <th>400</th>\n",
              "      <td>white</td>\n",
              "      <td>6.3</td>\n",
              "      <td>0.20</td>\n",
              "      <td>0.40</td>\n",
              "      <td>1.5</td>\n",
              "      <td>0.037</td>\n",
              "      <td>35.0</td>\n",
              "      <td>107.0</td>\n",
              "      <td>0.99170</td>\n",
              "      <td>3.46</td>\n",
              "      <td>0.50</td>\n",
              "      <td>11.4</td>\n",
              "      <td>6</td>\n",
              "    </tr>\n",
              "    <tr>\n",
              "      <th>379</th>\n",
              "      <td>white</td>\n",
              "      <td>6.4</td>\n",
              "      <td>0.31</td>\n",
              "      <td>0.28</td>\n",
              "      <td>1.5</td>\n",
              "      <td>0.037</td>\n",
              "      <td>12.0</td>\n",
              "      <td>119.0</td>\n",
              "      <td>0.99190</td>\n",
              "      <td>3.32</td>\n",
              "      <td>0.51</td>\n",
              "      <td>10.4</td>\n",
              "      <td>7</td>\n",
              "    </tr>\n",
              "    <tr>\n",
              "      <th>4236</th>\n",
              "      <td>white</td>\n",
              "      <td>6.4</td>\n",
              "      <td>0.29</td>\n",
              "      <td>0.18</td>\n",
              "      <td>15.0</td>\n",
              "      <td>0.040</td>\n",
              "      <td>21.0</td>\n",
              "      <td>116.0</td>\n",
              "      <td>0.99736</td>\n",
              "      <td>3.14</td>\n",
              "      <td>0.50</td>\n",
              "      <td>9.2</td>\n",
              "      <td>5</td>\n",
              "    </tr>\n",
              "    <tr>\n",
              "      <th>1790</th>\n",
              "      <td>white</td>\n",
              "      <td>9.4</td>\n",
              "      <td>0.16</td>\n",
              "      <td>0.30</td>\n",
              "      <td>1.4</td>\n",
              "      <td>0.042</td>\n",
              "      <td>26.0</td>\n",
              "      <td>176.0</td>\n",
              "      <td>0.99540</td>\n",
              "      <td>3.15</td>\n",
              "      <td>0.46</td>\n",
              "      <td>9.1</td>\n",
              "      <td>5</td>\n",
              "    </tr>\n",
              "    <tr>\n",
              "      <th>4165</th>\n",
              "      <td>white</td>\n",
              "      <td>6.6</td>\n",
              "      <td>0.22</td>\n",
              "      <td>0.35</td>\n",
              "      <td>1.4</td>\n",
              "      <td>0.050</td>\n",
              "      <td>23.0</td>\n",
              "      <td>83.0</td>\n",
              "      <td>0.99019</td>\n",
              "      <td>3.17</td>\n",
              "      <td>0.48</td>\n",
              "      <td>12.0</td>\n",
              "      <td>7</td>\n",
              "    </tr>\n",
              "    <tr>\n",
              "      <th>1794</th>\n",
              "      <td>white</td>\n",
              "      <td>6.6</td>\n",
              "      <td>0.37</td>\n",
              "      <td>0.24</td>\n",
              "      <td>2.0</td>\n",
              "      <td>0.064</td>\n",
              "      <td>23.0</td>\n",
              "      <td>120.0</td>\n",
              "      <td>0.99460</td>\n",
              "      <td>3.32</td>\n",
              "      <td>0.54</td>\n",
              "      <td>9.4</td>\n",
              "      <td>5</td>\n",
              "    </tr>\n",
              "    <tr>\n",
              "      <th>409</th>\n",
              "      <td>white</td>\n",
              "      <td>8.2</td>\n",
              "      <td>0.28</td>\n",
              "      <td>0.42</td>\n",
              "      <td>1.8</td>\n",
              "      <td>0.031</td>\n",
              "      <td>30.0</td>\n",
              "      <td>93.0</td>\n",
              "      <td>0.99170</td>\n",
              "      <td>3.09</td>\n",
              "      <td>0.39</td>\n",
              "      <td>11.4</td>\n",
              "      <td>5</td>\n",
              "    </tr>\n",
              "    <tr>\n",
              "      <th>3018</th>\n",
              "      <td>white</td>\n",
              "      <td>6.8</td>\n",
              "      <td>0.22</td>\n",
              "      <td>0.31</td>\n",
              "      <td>6.9</td>\n",
              "      <td>0.037</td>\n",
              "      <td>33.0</td>\n",
              "      <td>121.0</td>\n",
              "      <td>0.99176</td>\n",
              "      <td>3.02</td>\n",
              "      <td>0.39</td>\n",
              "      <td>11.9</td>\n",
              "      <td>8</td>\n",
              "    </tr>\n",
              "    <tr>\n",
              "      <th>2368</th>\n",
              "      <td>white</td>\n",
              "      <td>7.4</td>\n",
              "      <td>0.34</td>\n",
              "      <td>0.30</td>\n",
              "      <td>14.9</td>\n",
              "      <td>0.037</td>\n",
              "      <td>70.0</td>\n",
              "      <td>169.0</td>\n",
              "      <td>0.99698</td>\n",
              "      <td>3.25</td>\n",
              "      <td>0.37</td>\n",
              "      <td>10.4</td>\n",
              "      <td>6</td>\n",
              "    </tr>\n",
              "  </tbody>\n",
              "</table>\n",
              "</div>"
            ],
            "text/plain": [
              "       type  fixed acidity  volatile acidity  ...  sulphates  alcohol  quality\n",
              "5798    red            8.9              0.31  ...       0.69     11.8        5\n",
              "400   white            6.3              0.20  ...       0.50     11.4        6\n",
              "379   white            6.4              0.31  ...       0.51     10.4        7\n",
              "4236  white            6.4              0.29  ...       0.50      9.2        5\n",
              "1790  white            9.4              0.16  ...       0.46      9.1        5\n",
              "4165  white            6.6              0.22  ...       0.48     12.0        7\n",
              "1794  white            6.6              0.37  ...       0.54      9.4        5\n",
              "409   white            8.2              0.28  ...       0.39     11.4        5\n",
              "3018  white            6.8              0.22  ...       0.39     11.9        8\n",
              "2368  white            7.4              0.34  ...       0.37     10.4        6\n",
              "\n",
              "[10 rows x 13 columns]"
            ]
          },
          "metadata": {
            "tags": []
          },
          "execution_count": 3
        }
      ]
    },
    {
      "cell_type": "code",
      "metadata": {
        "colab": {
          "base_uri": "https://localhost:8080/"
        },
        "id": "8kJnA_KMu-CE",
        "outputId": "20c9f299-989f-486e-dec9-216517b1b53e"
      },
      "source": [
        "print(df[\"type\"].value_counts())\n",
        "print(df[\"quality\"].value_counts())\n",
        "\n",
        "\n",
        "df.isnull().sum()"
      ],
      "execution_count": 4,
      "outputs": [
        {
          "output_type": "stream",
          "text": [
            "white    4898\n",
            "red      1599\n",
            "Name: type, dtype: int64\n",
            "6    2836\n",
            "5    2138\n",
            "7    1079\n",
            "4     216\n",
            "8     193\n",
            "3      30\n",
            "9       5\n",
            "Name: quality, dtype: int64\n"
          ],
          "name": "stdout"
        },
        {
          "output_type": "execute_result",
          "data": {
            "text/plain": [
              "type                     0\n",
              "fixed acidity           10\n",
              "volatile acidity         8\n",
              "citric acid              3\n",
              "residual sugar           2\n",
              "chlorides                2\n",
              "free sulfur dioxide      0\n",
              "total sulfur dioxide     0\n",
              "density                  0\n",
              "pH                       9\n",
              "sulphates                4\n",
              "alcohol                  0\n",
              "quality                  0\n",
              "dtype: int64"
            ]
          },
          "metadata": {
            "tags": []
          },
          "execution_count": 4
        }
      ]
    },
    {
      "cell_type": "code",
      "metadata": {
        "colab": {
          "base_uri": "https://localhost:8080/"
        },
        "id": "IrHwUZYENXFs",
        "outputId": "dd455c61-bba4-4fc5-d91d-a4d6d78aa715"
      },
      "source": [
        "df = df.dropna()\n",
        "df.isnull().sum()"
      ],
      "execution_count": 5,
      "outputs": [
        {
          "output_type": "execute_result",
          "data": {
            "text/plain": [
              "type                    0\n",
              "fixed acidity           0\n",
              "volatile acidity        0\n",
              "citric acid             0\n",
              "residual sugar          0\n",
              "chlorides               0\n",
              "free sulfur dioxide     0\n",
              "total sulfur dioxide    0\n",
              "density                 0\n",
              "pH                      0\n",
              "sulphates               0\n",
              "alcohol                 0\n",
              "quality                 0\n",
              "dtype: int64"
            ]
          },
          "metadata": {
            "tags": []
          },
          "execution_count": 5
        }
      ]
    },
    {
      "cell_type": "code",
      "metadata": {
        "colab": {
          "base_uri": "https://localhost:8080/"
        },
        "id": "OwUIBv_ZNj3D",
        "outputId": "d7e59703-82bc-4a82-e156-e8cc346b2083"
      },
      "source": [
        "print(df[\"type\"].value_counts())\n",
        "print(df[\"quality\"].value_counts())"
      ],
      "execution_count": 6,
      "outputs": [
        {
          "output_type": "stream",
          "text": [
            "white    4870\n",
            "red      1593\n",
            "Name: type, dtype: int64\n",
            "6    2820\n",
            "5    2128\n",
            "7    1074\n",
            "4     214\n",
            "8     192\n",
            "3      30\n",
            "9       5\n",
            "Name: quality, dtype: int64\n"
          ],
          "name": "stdout"
        }
      ]
    },
    {
      "cell_type": "markdown",
      "metadata": {
        "id": "l9p_3lQlwm_N"
      },
      "source": [
        "## Get Dummies"
      ]
    },
    {
      "cell_type": "code",
      "metadata": {
        "colab": {
          "base_uri": "https://localhost:8080/",
          "height": 393
        },
        "id": "ziGkc-zivSSE",
        "outputId": "e8acb787-45eb-40ee-bc42-68ff0833f030"
      },
      "source": [
        "wines = pd.get_dummies(df, columns=['type'])\n",
        "wines.sample(10)"
      ],
      "execution_count": 7,
      "outputs": [
        {
          "output_type": "execute_result",
          "data": {
            "text/html": [
              "<div>\n",
              "<style scoped>\n",
              "    .dataframe tbody tr th:only-of-type {\n",
              "        vertical-align: middle;\n",
              "    }\n",
              "\n",
              "    .dataframe tbody tr th {\n",
              "        vertical-align: top;\n",
              "    }\n",
              "\n",
              "    .dataframe thead th {\n",
              "        text-align: right;\n",
              "    }\n",
              "</style>\n",
              "<table border=\"1\" class=\"dataframe\">\n",
              "  <thead>\n",
              "    <tr style=\"text-align: right;\">\n",
              "      <th></th>\n",
              "      <th>fixed acidity</th>\n",
              "      <th>volatile acidity</th>\n",
              "      <th>citric acid</th>\n",
              "      <th>residual sugar</th>\n",
              "      <th>chlorides</th>\n",
              "      <th>free sulfur dioxide</th>\n",
              "      <th>total sulfur dioxide</th>\n",
              "      <th>density</th>\n",
              "      <th>pH</th>\n",
              "      <th>sulphates</th>\n",
              "      <th>alcohol</th>\n",
              "      <th>quality</th>\n",
              "      <th>type_red</th>\n",
              "      <th>type_white</th>\n",
              "    </tr>\n",
              "  </thead>\n",
              "  <tbody>\n",
              "    <tr>\n",
              "      <th>2838</th>\n",
              "      <td>6.9</td>\n",
              "      <td>0.15</td>\n",
              "      <td>0.29</td>\n",
              "      <td>2.3</td>\n",
              "      <td>0.033</td>\n",
              "      <td>14.0</td>\n",
              "      <td>82.0</td>\n",
              "      <td>0.99132</td>\n",
              "      <td>3.10</td>\n",
              "      <td>0.58</td>\n",
              "      <td>11.2</td>\n",
              "      <td>7</td>\n",
              "      <td>0</td>\n",
              "      <td>1</td>\n",
              "    </tr>\n",
              "    <tr>\n",
              "      <th>1587</th>\n",
              "      <td>6.4</td>\n",
              "      <td>0.25</td>\n",
              "      <td>0.74</td>\n",
              "      <td>7.8</td>\n",
              "      <td>0.045</td>\n",
              "      <td>52.0</td>\n",
              "      <td>209.0</td>\n",
              "      <td>0.99560</td>\n",
              "      <td>3.21</td>\n",
              "      <td>0.42</td>\n",
              "      <td>9.2</td>\n",
              "      <td>6</td>\n",
              "      <td>0</td>\n",
              "      <td>1</td>\n",
              "    </tr>\n",
              "    <tr>\n",
              "      <th>5192</th>\n",
              "      <td>13.3</td>\n",
              "      <td>0.34</td>\n",
              "      <td>0.52</td>\n",
              "      <td>3.2</td>\n",
              "      <td>0.094</td>\n",
              "      <td>17.0</td>\n",
              "      <td>53.0</td>\n",
              "      <td>1.00140</td>\n",
              "      <td>3.05</td>\n",
              "      <td>0.81</td>\n",
              "      <td>9.5</td>\n",
              "      <td>6</td>\n",
              "      <td>1</td>\n",
              "      <td>0</td>\n",
              "    </tr>\n",
              "    <tr>\n",
              "      <th>6174</th>\n",
              "      <td>8.5</td>\n",
              "      <td>0.40</td>\n",
              "      <td>0.40</td>\n",
              "      <td>6.3</td>\n",
              "      <td>0.050</td>\n",
              "      <td>3.0</td>\n",
              "      <td>10.0</td>\n",
              "      <td>0.99566</td>\n",
              "      <td>3.28</td>\n",
              "      <td>0.56</td>\n",
              "      <td>12.0</td>\n",
              "      <td>4</td>\n",
              "      <td>1</td>\n",
              "      <td>0</td>\n",
              "    </tr>\n",
              "    <tr>\n",
              "      <th>6243</th>\n",
              "      <td>8.2</td>\n",
              "      <td>0.44</td>\n",
              "      <td>0.24</td>\n",
              "      <td>2.3</td>\n",
              "      <td>0.063</td>\n",
              "      <td>10.0</td>\n",
              "      <td>28.0</td>\n",
              "      <td>0.99613</td>\n",
              "      <td>3.25</td>\n",
              "      <td>0.53</td>\n",
              "      <td>10.2</td>\n",
              "      <td>6</td>\n",
              "      <td>1</td>\n",
              "      <td>0</td>\n",
              "    </tr>\n",
              "    <tr>\n",
              "      <th>2808</th>\n",
              "      <td>7.0</td>\n",
              "      <td>0.27</td>\n",
              "      <td>0.48</td>\n",
              "      <td>6.1</td>\n",
              "      <td>0.042</td>\n",
              "      <td>60.0</td>\n",
              "      <td>184.0</td>\n",
              "      <td>0.99566</td>\n",
              "      <td>3.20</td>\n",
              "      <td>0.50</td>\n",
              "      <td>9.4</td>\n",
              "      <td>6</td>\n",
              "      <td>0</td>\n",
              "      <td>1</td>\n",
              "    </tr>\n",
              "    <tr>\n",
              "      <th>906</th>\n",
              "      <td>8.3</td>\n",
              "      <td>0.27</td>\n",
              "      <td>0.45</td>\n",
              "      <td>1.3</td>\n",
              "      <td>0.048</td>\n",
              "      <td>8.0</td>\n",
              "      <td>72.0</td>\n",
              "      <td>0.99440</td>\n",
              "      <td>3.08</td>\n",
              "      <td>0.61</td>\n",
              "      <td>10.3</td>\n",
              "      <td>4</td>\n",
              "      <td>0</td>\n",
              "      <td>1</td>\n",
              "    </tr>\n",
              "    <tr>\n",
              "      <th>4112</th>\n",
              "      <td>6.0</td>\n",
              "      <td>0.20</td>\n",
              "      <td>0.25</td>\n",
              "      <td>2.0</td>\n",
              "      <td>0.041</td>\n",
              "      <td>30.0</td>\n",
              "      <td>95.0</td>\n",
              "      <td>0.99078</td>\n",
              "      <td>3.27</td>\n",
              "      <td>0.56</td>\n",
              "      <td>11.1</td>\n",
              "      <td>6</td>\n",
              "      <td>0</td>\n",
              "      <td>1</td>\n",
              "    </tr>\n",
              "    <tr>\n",
              "      <th>2398</th>\n",
              "      <td>8.0</td>\n",
              "      <td>0.36</td>\n",
              "      <td>0.39</td>\n",
              "      <td>1.6</td>\n",
              "      <td>0.024</td>\n",
              "      <td>26.0</td>\n",
              "      <td>93.0</td>\n",
              "      <td>0.99116</td>\n",
              "      <td>3.15</td>\n",
              "      <td>0.49</td>\n",
              "      <td>11.9</td>\n",
              "      <td>6</td>\n",
              "      <td>0</td>\n",
              "      <td>1</td>\n",
              "    </tr>\n",
              "    <tr>\n",
              "      <th>3144</th>\n",
              "      <td>6.2</td>\n",
              "      <td>0.23</td>\n",
              "      <td>0.36</td>\n",
              "      <td>17.2</td>\n",
              "      <td>0.039</td>\n",
              "      <td>37.0</td>\n",
              "      <td>130.0</td>\n",
              "      <td>0.99946</td>\n",
              "      <td>3.23</td>\n",
              "      <td>0.43</td>\n",
              "      <td>8.8</td>\n",
              "      <td>6</td>\n",
              "      <td>0</td>\n",
              "      <td>1</td>\n",
              "    </tr>\n",
              "  </tbody>\n",
              "</table>\n",
              "</div>"
            ],
            "text/plain": [
              "      fixed acidity  volatile acidity  ...  type_red  type_white\n",
              "2838            6.9              0.15  ...         0           1\n",
              "1587            6.4              0.25  ...         0           1\n",
              "5192           13.3              0.34  ...         1           0\n",
              "6174            8.5              0.40  ...         1           0\n",
              "6243            8.2              0.44  ...         1           0\n",
              "2808            7.0              0.27  ...         0           1\n",
              "906             8.3              0.27  ...         0           1\n",
              "4112            6.0              0.20  ...         0           1\n",
              "2398            8.0              0.36  ...         0           1\n",
              "3144            6.2              0.23  ...         0           1\n",
              "\n",
              "[10 rows x 14 columns]"
            ]
          },
          "metadata": {
            "tags": []
          },
          "execution_count": 7
        }
      ]
    },
    {
      "cell_type": "markdown",
      "metadata": {
        "id": "IotOqKYOwxr8"
      },
      "source": [
        "## Split the dataset"
      ]
    },
    {
      "cell_type": "code",
      "metadata": {
        "colab": {
          "base_uri": "https://localhost:8080/"
        },
        "id": "lCspc0hgwZft",
        "outputId": "a3002234-bd89-4156-d794-e9f98e33fee8"
      },
      "source": [
        "x = wines.iloc[:,:-3].join(wines['type_red'].to_frame()\n",
        "                    ).join(wines['type_white'].to_frame()).to_numpy()\n",
        "\n",
        "y = wines.iloc[:,-3].astype('int32').to_numpy()\n",
        "y = [(round(each / 10)) for each in y]\n",
        "\n",
        "y = np.reshape(y, (6463, 1))\n",
        "\n",
        "print(x.shape)\n",
        "print(y.shape)"
      ],
      "execution_count": 8,
      "outputs": [
        {
          "output_type": "stream",
          "text": [
            "(6463, 13)\n",
            "(6463, 1)\n"
          ],
          "name": "stdout"
        }
      ]
    },
    {
      "cell_type": "code",
      "metadata": {
        "id": "1V7yuRvcxLA9"
      },
      "source": [
        "from sklearn.model_selection import train_test_split\n",
        "X_train, X_test, y_train, y_test = train_test_split(x, y, test_size=0.2)"
      ],
      "execution_count": 9,
      "outputs": []
    },
    {
      "cell_type": "code",
      "metadata": {
        "colab": {
          "base_uri": "https://localhost:8080/"
        },
        "id": "V9hJKX7GxORZ",
        "outputId": "530ba6d2-32b1-49e0-dc7c-79ba3b42e0b0"
      },
      "source": [
        "print(X_train.shape)\n",
        "print(X_test.shape)\n",
        "print(y_train.shape)\n",
        "print(y_test.shape)"
      ],
      "execution_count": 10,
      "outputs": [
        {
          "output_type": "stream",
          "text": [
            "(5170, 13)\n",
            "(1293, 13)\n",
            "(5170, 1)\n",
            "(1293, 1)\n"
          ],
          "name": "stdout"
        }
      ]
    },
    {
      "cell_type": "markdown",
      "metadata": {
        "id": "2hGYeCovx6R8"
      },
      "source": [
        "# Building the Neural Network"
      ]
    },
    {
      "cell_type": "markdown",
      "metadata": {
        "id": "LSoyzrmTyEb-"
      },
      "source": [
        "## Create the Model"
      ]
    },
    {
      "cell_type": "code",
      "metadata": {
        "id": "VSlQYbxbx2_s"
      },
      "source": [
        "model = Sequential()"
      ],
      "execution_count": 11,
      "outputs": []
    },
    {
      "cell_type": "markdown",
      "metadata": {
        "id": "SUIb59YYyJB2"
      },
      "source": [
        "## Add the layers"
      ]
    },
    {
      "cell_type": "code",
      "metadata": {
        "id": "aKOr_ZIgyIWQ"
      },
      "source": [
        "model.add(Dense(64, input_dim=13, activation='relu'))\n",
        "model.add(Flatten())\n",
        "model.add(Dense(42, activation='relu'))\n",
        "model.add(Flatten())\n",
        "model.add(Dense(16, activation='relu'))\n",
        "model.add(Flatten())\n",
        "model.add(Dense(1, activation='sigmoid'))"
      ],
      "execution_count": 12,
      "outputs": []
    },
    {
      "cell_type": "markdown",
      "metadata": {
        "id": "HAP8V7-BzF0y"
      },
      "source": [
        "# Compiling the Model"
      ]
    },
    {
      "cell_type": "code",
      "metadata": {
        "id": "XGhv5Wh5zCWc"
      },
      "source": [
        "model.compile(loss='mean_squared_error',\n",
        "              optimizer=\"adam\",\n",
        "              metrics=['accuracy'])"
      ],
      "execution_count": 13,
      "outputs": []
    },
    {
      "cell_type": "markdown",
      "metadata": {
        "id": "D8OmMVQvzsDZ"
      },
      "source": [
        "# Training"
      ]
    },
    {
      "cell_type": "code",
      "metadata": {
        "colab": {
          "base_uri": "https://localhost:8080/"
        },
        "id": "Kq-_46760INI",
        "outputId": "a78f246e-4689-43dc-8dcb-3925fa99221c"
      },
      "source": [
        "history = model.fit(X_train, y_train, epochs=150)"
      ],
      "execution_count": 14,
      "outputs": [
        {
          "output_type": "stream",
          "text": [
            "Epoch 1/150\n",
            "162/162 [==============================] - 1s 1ms/step - loss: 0.3417 - accuracy: 0.6259\n",
            "Epoch 2/150\n",
            "162/162 [==============================] - 0s 1ms/step - loss: 0.3151 - accuracy: 0.6219\n",
            "Epoch 3/150\n",
            "162/162 [==============================] - 0s 1ms/step - loss: 0.2817 - accuracy: 0.6263\n",
            "Epoch 4/150\n",
            "162/162 [==============================] - 0s 1ms/step - loss: 0.2681 - accuracy: 0.6314\n",
            "Epoch 5/150\n",
            "162/162 [==============================] - 0s 1ms/step - loss: 0.2191 - accuracy: 0.6669\n",
            "Epoch 6/150\n",
            "162/162 [==============================] - 0s 2ms/step - loss: 0.2120 - accuracy: 0.6743\n",
            "Epoch 7/150\n",
            "162/162 [==============================] - 0s 2ms/step - loss: 0.2200 - accuracy: 0.6747\n",
            "Epoch 8/150\n",
            "162/162 [==============================] - 0s 1ms/step - loss: 0.1930 - accuracy: 0.7022\n",
            "Epoch 9/150\n",
            "162/162 [==============================] - 0s 1ms/step - loss: 0.1999 - accuracy: 0.6822\n",
            "Epoch 10/150\n",
            "162/162 [==============================] - 0s 1ms/step - loss: 0.2014 - accuracy: 0.7004\n",
            "Epoch 11/150\n",
            "162/162 [==============================] - 0s 1ms/step - loss: 0.1985 - accuracy: 0.6919\n",
            "Epoch 12/150\n",
            "162/162 [==============================] - 0s 1ms/step - loss: 0.2033 - accuracy: 0.6882\n",
            "Epoch 13/150\n",
            "162/162 [==============================] - 0s 2ms/step - loss: 0.1937 - accuracy: 0.7053\n",
            "Epoch 14/150\n",
            "162/162 [==============================] - 0s 1ms/step - loss: 0.1850 - accuracy: 0.7159\n",
            "Epoch 15/150\n",
            "162/162 [==============================] - 0s 1ms/step - loss: 0.1832 - accuracy: 0.7145\n",
            "Epoch 16/150\n",
            "162/162 [==============================] - 0s 1ms/step - loss: 0.1847 - accuracy: 0.7089\n",
            "Epoch 17/150\n",
            "162/162 [==============================] - 0s 1ms/step - loss: 0.1895 - accuracy: 0.7030\n",
            "Epoch 18/150\n",
            "162/162 [==============================] - 0s 1ms/step - loss: 0.2013 - accuracy: 0.6978\n",
            "Epoch 19/150\n",
            "162/162 [==============================] - 0s 1ms/step - loss: 0.2011 - accuracy: 0.7028\n",
            "Epoch 20/150\n",
            "162/162 [==============================] - 0s 2ms/step - loss: 0.1839 - accuracy: 0.7234\n",
            "Epoch 21/150\n",
            "162/162 [==============================] - 0s 1ms/step - loss: 0.1843 - accuracy: 0.7220\n",
            "Epoch 22/150\n",
            "162/162 [==============================] - 0s 1ms/step - loss: 0.1840 - accuracy: 0.7266\n",
            "Epoch 23/150\n",
            "162/162 [==============================] - 0s 1ms/step - loss: 0.1991 - accuracy: 0.6996\n",
            "Epoch 24/150\n",
            "162/162 [==============================] - 0s 1ms/step - loss: 0.2069 - accuracy: 0.6992\n",
            "Epoch 25/150\n",
            "162/162 [==============================] - 0s 1ms/step - loss: 0.1819 - accuracy: 0.7249\n",
            "Epoch 26/150\n",
            "162/162 [==============================] - 0s 1ms/step - loss: 0.1853 - accuracy: 0.7087\n",
            "Epoch 27/150\n",
            "162/162 [==============================] - 0s 1ms/step - loss: 0.1770 - accuracy: 0.7340\n",
            "Epoch 28/150\n",
            "162/162 [==============================] - 0s 1ms/step - loss: 0.1758 - accuracy: 0.7340\n",
            "Epoch 29/150\n",
            "162/162 [==============================] - 0s 1ms/step - loss: 0.1801 - accuracy: 0.7319\n",
            "Epoch 30/150\n",
            "162/162 [==============================] - 0s 1ms/step - loss: 0.1758 - accuracy: 0.7295\n",
            "Epoch 31/150\n",
            "162/162 [==============================] - 0s 1ms/step - loss: 0.1825 - accuracy: 0.7200\n",
            "Epoch 32/150\n",
            "162/162 [==============================] - 0s 1ms/step - loss: 0.1759 - accuracy: 0.7304\n",
            "Epoch 33/150\n",
            "162/162 [==============================] - 0s 1ms/step - loss: 0.1802 - accuracy: 0.7214\n",
            "Epoch 34/150\n",
            "162/162 [==============================] - 0s 1ms/step - loss: 0.1739 - accuracy: 0.7396\n",
            "Epoch 35/150\n",
            "162/162 [==============================] - 0s 1ms/step - loss: 0.1777 - accuracy: 0.7329\n",
            "Epoch 36/150\n",
            "162/162 [==============================] - 0s 1ms/step - loss: 0.1750 - accuracy: 0.7265\n",
            "Epoch 37/150\n",
            "162/162 [==============================] - 0s 2ms/step - loss: 0.1778 - accuracy: 0.7182\n",
            "Epoch 38/150\n",
            "162/162 [==============================] - 0s 1ms/step - loss: 0.1749 - accuracy: 0.7344\n",
            "Epoch 39/150\n",
            "162/162 [==============================] - 0s 1ms/step - loss: 0.1729 - accuracy: 0.7371\n",
            "Epoch 40/150\n",
            "162/162 [==============================] - 0s 1ms/step - loss: 0.1781 - accuracy: 0.7285\n",
            "Epoch 41/150\n",
            "162/162 [==============================] - 0s 1ms/step - loss: 0.1749 - accuracy: 0.7345\n",
            "Epoch 42/150\n",
            "162/162 [==============================] - 0s 1ms/step - loss: 0.1830 - accuracy: 0.7266\n",
            "Epoch 43/150\n",
            "162/162 [==============================] - 0s 1ms/step - loss: 0.1770 - accuracy: 0.7290\n",
            "Epoch 44/150\n",
            "162/162 [==============================] - 0s 1ms/step - loss: 0.1705 - accuracy: 0.7356\n",
            "Epoch 45/150\n",
            "162/162 [==============================] - 0s 1ms/step - loss: 0.1727 - accuracy: 0.7354\n",
            "Epoch 46/150\n",
            "162/162 [==============================] - 0s 1ms/step - loss: 0.1723 - accuracy: 0.7398\n",
            "Epoch 47/150\n",
            "162/162 [==============================] - 0s 1ms/step - loss: 0.1659 - accuracy: 0.7521\n",
            "Epoch 48/150\n",
            "162/162 [==============================] - 0s 1ms/step - loss: 0.1732 - accuracy: 0.7361\n",
            "Epoch 49/150\n",
            "162/162 [==============================] - 0s 1ms/step - loss: 0.1738 - accuracy: 0.7359\n",
            "Epoch 50/150\n",
            "162/162 [==============================] - 0s 1ms/step - loss: 0.1730 - accuracy: 0.7444\n",
            "Epoch 51/150\n",
            "162/162 [==============================] - 0s 1ms/step - loss: 0.1743 - accuracy: 0.7353\n",
            "Epoch 52/150\n",
            "162/162 [==============================] - 0s 1ms/step - loss: 0.1755 - accuracy: 0.7351\n",
            "Epoch 53/150\n",
            "162/162 [==============================] - 0s 1ms/step - loss: 0.1748 - accuracy: 0.7340\n",
            "Epoch 54/150\n",
            "162/162 [==============================] - 0s 1ms/step - loss: 0.1703 - accuracy: 0.7350\n",
            "Epoch 55/150\n",
            "162/162 [==============================] - 0s 1ms/step - loss: 0.1715 - accuracy: 0.7434\n",
            "Epoch 56/150\n",
            "162/162 [==============================] - 0s 1ms/step - loss: 0.1752 - accuracy: 0.7325\n",
            "Epoch 57/150\n",
            "162/162 [==============================] - 0s 1ms/step - loss: 0.1755 - accuracy: 0.7324\n",
            "Epoch 58/150\n",
            "162/162 [==============================] - 0s 1ms/step - loss: 0.1730 - accuracy: 0.7364\n",
            "Epoch 59/150\n",
            "162/162 [==============================] - 0s 1ms/step - loss: 0.1704 - accuracy: 0.7408\n",
            "Epoch 60/150\n",
            "162/162 [==============================] - 0s 1ms/step - loss: 0.1669 - accuracy: 0.7491\n",
            "Epoch 61/150\n",
            "162/162 [==============================] - 0s 1ms/step - loss: 0.1701 - accuracy: 0.7391\n",
            "Epoch 62/150\n",
            "162/162 [==============================] - 0s 1ms/step - loss: 0.1751 - accuracy: 0.7350\n",
            "Epoch 63/150\n",
            "162/162 [==============================] - 0s 1ms/step - loss: 0.1720 - accuracy: 0.7444\n",
            "Epoch 64/150\n",
            "162/162 [==============================] - 0s 1ms/step - loss: 0.1696 - accuracy: 0.7482\n",
            "Epoch 65/150\n",
            "162/162 [==============================] - 0s 2ms/step - loss: 0.1746 - accuracy: 0.7285\n",
            "Epoch 66/150\n",
            "162/162 [==============================] - 0s 1ms/step - loss: 0.1649 - accuracy: 0.7517\n",
            "Epoch 67/150\n",
            "162/162 [==============================] - 0s 1ms/step - loss: 0.1656 - accuracy: 0.7531\n",
            "Epoch 68/150\n",
            "162/162 [==============================] - 0s 1ms/step - loss: 0.1671 - accuracy: 0.7519\n",
            "Epoch 69/150\n",
            "162/162 [==============================] - 0s 1ms/step - loss: 0.1671 - accuracy: 0.7510\n",
            "Epoch 70/150\n",
            "162/162 [==============================] - 0s 1ms/step - loss: 0.1711 - accuracy: 0.7368\n",
            "Epoch 71/150\n",
            "162/162 [==============================] - 0s 2ms/step - loss: 0.1651 - accuracy: 0.7519\n",
            "Epoch 72/150\n",
            "162/162 [==============================] - 0s 1ms/step - loss: 0.1682 - accuracy: 0.7468\n",
            "Epoch 73/150\n",
            "162/162 [==============================] - 0s 1ms/step - loss: 0.1730 - accuracy: 0.7405\n",
            "Epoch 74/150\n",
            "162/162 [==============================] - 0s 1ms/step - loss: 0.1688 - accuracy: 0.7432\n",
            "Epoch 75/150\n",
            "162/162 [==============================] - 0s 1ms/step - loss: 0.1685 - accuracy: 0.7378\n",
            "Epoch 76/150\n",
            "162/162 [==============================] - 0s 1ms/step - loss: 0.1711 - accuracy: 0.7364\n",
            "Epoch 77/150\n",
            "162/162 [==============================] - 0s 1ms/step - loss: 0.1692 - accuracy: 0.7390\n",
            "Epoch 78/150\n",
            "162/162 [==============================] - 0s 1ms/step - loss: 0.1670 - accuracy: 0.7427\n",
            "Epoch 79/150\n",
            "162/162 [==============================] - 0s 1ms/step - loss: 0.1665 - accuracy: 0.7491\n",
            "Epoch 80/150\n",
            "162/162 [==============================] - 0s 1ms/step - loss: 0.1678 - accuracy: 0.7458\n",
            "Epoch 81/150\n",
            "162/162 [==============================] - 0s 1ms/step - loss: 0.1630 - accuracy: 0.7602\n",
            "Epoch 82/150\n",
            "162/162 [==============================] - 0s 1ms/step - loss: 0.1696 - accuracy: 0.7433\n",
            "Epoch 83/150\n",
            "162/162 [==============================] - 0s 1ms/step - loss: 0.1680 - accuracy: 0.7424\n",
            "Epoch 84/150\n",
            "162/162 [==============================] - 0s 1ms/step - loss: 0.1670 - accuracy: 0.7457\n",
            "Epoch 85/150\n",
            "162/162 [==============================] - 0s 1ms/step - loss: 0.1674 - accuracy: 0.7501\n",
            "Epoch 86/150\n",
            "162/162 [==============================] - 0s 1ms/step - loss: 0.1645 - accuracy: 0.7460\n",
            "Epoch 87/150\n",
            "162/162 [==============================] - 0s 1ms/step - loss: 0.1719 - accuracy: 0.7373\n",
            "Epoch 88/150\n",
            "162/162 [==============================] - 0s 1ms/step - loss: 0.1696 - accuracy: 0.7357\n",
            "Epoch 89/150\n",
            "162/162 [==============================] - 0s 1ms/step - loss: 0.1706 - accuracy: 0.7447\n",
            "Epoch 90/150\n",
            "162/162 [==============================] - 0s 1ms/step - loss: 0.1641 - accuracy: 0.7516\n",
            "Epoch 91/150\n",
            "162/162 [==============================] - 0s 1ms/step - loss: 0.1684 - accuracy: 0.7410\n",
            "Epoch 92/150\n",
            "162/162 [==============================] - 0s 1ms/step - loss: 0.1741 - accuracy: 0.7312\n",
            "Epoch 93/150\n",
            "162/162 [==============================] - 0s 1ms/step - loss: 0.1618 - accuracy: 0.7520\n",
            "Epoch 94/150\n",
            "162/162 [==============================] - 0s 1ms/step - loss: 0.1694 - accuracy: 0.7301\n",
            "Epoch 95/150\n",
            "162/162 [==============================] - 0s 1ms/step - loss: 0.1707 - accuracy: 0.7358\n",
            "Epoch 96/150\n",
            "162/162 [==============================] - 0s 1ms/step - loss: 0.1668 - accuracy: 0.7488\n",
            "Epoch 97/150\n",
            "162/162 [==============================] - 0s 1ms/step - loss: 0.1745 - accuracy: 0.7451\n",
            "Epoch 98/150\n",
            "162/162 [==============================] - 0s 1ms/step - loss: 0.1657 - accuracy: 0.7459\n",
            "Epoch 99/150\n",
            "162/162 [==============================] - 0s 1ms/step - loss: 0.1689 - accuracy: 0.7437\n",
            "Epoch 100/150\n",
            "162/162 [==============================] - 0s 1ms/step - loss: 0.1623 - accuracy: 0.7613\n",
            "Epoch 101/150\n",
            "162/162 [==============================] - 0s 1ms/step - loss: 0.1679 - accuracy: 0.7414\n",
            "Epoch 102/150\n",
            "162/162 [==============================] - 0s 1ms/step - loss: 0.1622 - accuracy: 0.7527\n",
            "Epoch 103/150\n",
            "162/162 [==============================] - 0s 1ms/step - loss: 0.1706 - accuracy: 0.7435\n",
            "Epoch 104/150\n",
            "162/162 [==============================] - 0s 1ms/step - loss: 0.1616 - accuracy: 0.7595\n",
            "Epoch 105/150\n",
            "162/162 [==============================] - 0s 1ms/step - loss: 0.1659 - accuracy: 0.7563\n",
            "Epoch 106/150\n",
            "162/162 [==============================] - 0s 1ms/step - loss: 0.1679 - accuracy: 0.7466\n",
            "Epoch 107/150\n",
            "162/162 [==============================] - 0s 1ms/step - loss: 0.1634 - accuracy: 0.7503\n",
            "Epoch 108/150\n",
            "162/162 [==============================] - 0s 1ms/step - loss: 0.1651 - accuracy: 0.7493\n",
            "Epoch 109/150\n",
            "162/162 [==============================] - 0s 1ms/step - loss: 0.1679 - accuracy: 0.7430\n",
            "Epoch 110/150\n",
            "162/162 [==============================] - 0s 1ms/step - loss: 0.1620 - accuracy: 0.7559\n",
            "Epoch 111/150\n",
            "162/162 [==============================] - 0s 1ms/step - loss: 0.1649 - accuracy: 0.7526\n",
            "Epoch 112/150\n",
            "162/162 [==============================] - 0s 1ms/step - loss: 0.1667 - accuracy: 0.7409\n",
            "Epoch 113/150\n",
            "162/162 [==============================] - 0s 1ms/step - loss: 0.1622 - accuracy: 0.7540\n",
            "Epoch 114/150\n",
            "162/162 [==============================] - 0s 1ms/step - loss: 0.1635 - accuracy: 0.7560\n",
            "Epoch 115/150\n",
            "162/162 [==============================] - 0s 1ms/step - loss: 0.1631 - accuracy: 0.7524\n",
            "Epoch 116/150\n",
            "162/162 [==============================] - 0s 1ms/step - loss: 0.1604 - accuracy: 0.7606\n",
            "Epoch 117/150\n",
            "162/162 [==============================] - 0s 1ms/step - loss: 0.1680 - accuracy: 0.7444\n",
            "Epoch 118/150\n",
            "162/162 [==============================] - 0s 1ms/step - loss: 0.1656 - accuracy: 0.7463\n",
            "Epoch 119/150\n",
            "162/162 [==============================] - 0s 1ms/step - loss: 0.1653 - accuracy: 0.7531\n",
            "Epoch 120/150\n",
            "162/162 [==============================] - 0s 1ms/step - loss: 0.1635 - accuracy: 0.7455\n",
            "Epoch 121/150\n",
            "162/162 [==============================] - 0s 1ms/step - loss: 0.1662 - accuracy: 0.7505\n",
            "Epoch 122/150\n",
            "162/162 [==============================] - 0s 1ms/step - loss: 0.1594 - accuracy: 0.7617\n",
            "Epoch 123/150\n",
            "162/162 [==============================] - 0s 1ms/step - loss: 0.1672 - accuracy: 0.7407\n",
            "Epoch 124/150\n",
            "162/162 [==============================] - 0s 1ms/step - loss: 0.1630 - accuracy: 0.7599\n",
            "Epoch 125/150\n",
            "162/162 [==============================] - 0s 1ms/step - loss: 0.1638 - accuracy: 0.7552\n",
            "Epoch 126/150\n",
            "162/162 [==============================] - 0s 1ms/step - loss: 0.1603 - accuracy: 0.7577\n",
            "Epoch 127/150\n",
            "162/162 [==============================] - 0s 1ms/step - loss: 0.1619 - accuracy: 0.7612\n",
            "Epoch 128/150\n",
            "162/162 [==============================] - 0s 1ms/step - loss: 0.1626 - accuracy: 0.7593\n",
            "Epoch 129/150\n",
            "162/162 [==============================] - 0s 1ms/step - loss: 0.1618 - accuracy: 0.7519\n",
            "Epoch 130/150\n",
            "162/162 [==============================] - 0s 1ms/step - loss: 0.1630 - accuracy: 0.7581\n",
            "Epoch 131/150\n",
            "162/162 [==============================] - 0s 1ms/step - loss: 0.1607 - accuracy: 0.7603\n",
            "Epoch 132/150\n",
            "162/162 [==============================] - 0s 1ms/step - loss: 0.1623 - accuracy: 0.7563\n",
            "Epoch 133/150\n",
            "162/162 [==============================] - 0s 1ms/step - loss: 0.1658 - accuracy: 0.7463\n",
            "Epoch 134/150\n",
            "162/162 [==============================] - 0s 1ms/step - loss: 0.1600 - accuracy: 0.7549\n",
            "Epoch 135/150\n",
            "162/162 [==============================] - 0s 1ms/step - loss: 0.1673 - accuracy: 0.7423\n",
            "Epoch 136/150\n",
            "162/162 [==============================] - 0s 1ms/step - loss: 0.1662 - accuracy: 0.7485\n",
            "Epoch 137/150\n",
            "162/162 [==============================] - 0s 1ms/step - loss: 0.1625 - accuracy: 0.7518\n",
            "Epoch 138/150\n",
            "162/162 [==============================] - 0s 1ms/step - loss: 0.1647 - accuracy: 0.7546\n",
            "Epoch 139/150\n",
            "162/162 [==============================] - 0s 1ms/step - loss: 0.1668 - accuracy: 0.7455\n",
            "Epoch 140/150\n",
            "162/162 [==============================] - 0s 1ms/step - loss: 0.1613 - accuracy: 0.7589\n",
            "Epoch 141/150\n",
            "162/162 [==============================] - 0s 1ms/step - loss: 0.1592 - accuracy: 0.7582\n",
            "Epoch 142/150\n",
            "162/162 [==============================] - 0s 2ms/step - loss: 0.1664 - accuracy: 0.7481\n",
            "Epoch 143/150\n",
            "162/162 [==============================] - 0s 1ms/step - loss: 0.1604 - accuracy: 0.7519\n",
            "Epoch 144/150\n",
            "162/162 [==============================] - 0s 2ms/step - loss: 0.1557 - accuracy: 0.7771\n",
            "Epoch 145/150\n",
            "162/162 [==============================] - 0s 1ms/step - loss: 0.1570 - accuracy: 0.7679\n",
            "Epoch 146/150\n",
            "162/162 [==============================] - 0s 1ms/step - loss: 0.1612 - accuracy: 0.7600\n",
            "Epoch 147/150\n",
            "162/162 [==============================] - 0s 1ms/step - loss: 0.1599 - accuracy: 0.7589\n",
            "Epoch 148/150\n",
            "162/162 [==============================] - 0s 1ms/step - loss: 0.1637 - accuracy: 0.7531\n",
            "Epoch 149/150\n",
            "162/162 [==============================] - 0s 1ms/step - loss: 0.1649 - accuracy: 0.7556\n",
            "Epoch 150/150\n",
            "162/162 [==============================] - 0s 2ms/step - loss: 0.1711 - accuracy: 0.7416\n"
          ],
          "name": "stdout"
        }
      ]
    },
    {
      "cell_type": "markdown",
      "metadata": {
        "id": "MR5-vONbPWBu"
      },
      "source": [
        "# Evaluation"
      ]
    },
    {
      "cell_type": "code",
      "metadata": {
        "colab": {
          "base_uri": "https://localhost:8080/"
        },
        "id": "rqGmYuQbz9oE",
        "outputId": "b7642360-3d93-463c-b2d8-43f0e88fdd4b"
      },
      "source": [
        "scores = model.evaluate(X_test, y_test)\n",
        "\n",
        "print(\"\\n%s: %.2f%%\" % (model.metrics_names[1], scores[1]*100))"
      ],
      "execution_count": 15,
      "outputs": [
        {
          "output_type": "stream",
          "text": [
            "41/41 [==============================] - 0s 972us/step - loss: 0.1558 - accuracy: 0.7695\n",
            "\n",
            "accuracy: 76.95%\n"
          ],
          "name": "stdout"
        }
      ]
    },
    {
      "cell_type": "code",
      "metadata": {
        "colab": {
          "base_uri": "https://localhost:8080/"
        },
        "id": "Y8HYJ41-PdfL",
        "outputId": "a55dc384-9f4a-4ca5-b92b-f1932b7dc898"
      },
      "source": [
        "model.summary()"
      ],
      "execution_count": 16,
      "outputs": [
        {
          "output_type": "stream",
          "text": [
            "Model: \"sequential\"\n",
            "_________________________________________________________________\n",
            "Layer (type)                 Output Shape              Param #   \n",
            "=================================================================\n",
            "dense (Dense)                (None, 64)                896       \n",
            "_________________________________________________________________\n",
            "flatten (Flatten)            (None, 64)                0         \n",
            "_________________________________________________________________\n",
            "dense_1 (Dense)              (None, 42)                2730      \n",
            "_________________________________________________________________\n",
            "flatten_1 (Flatten)          (None, 42)                0         \n",
            "_________________________________________________________________\n",
            "dense_2 (Dense)              (None, 16)                688       \n",
            "_________________________________________________________________\n",
            "flatten_2 (Flatten)          (None, 16)                0         \n",
            "_________________________________________________________________\n",
            "dense_3 (Dense)              (None, 1)                 17        \n",
            "=================================================================\n",
            "Total params: 4,331\n",
            "Trainable params: 4,331\n",
            "Non-trainable params: 0\n",
            "_________________________________________________________________\n"
          ],
          "name": "stdout"
        }
      ]
    },
    {
      "cell_type": "markdown",
      "metadata": {
        "id": "WmrFP20BPstk"
      },
      "source": [
        "## Plots"
      ]
    },
    {
      "cell_type": "code",
      "metadata": {
        "colab": {
          "base_uri": "https://localhost:8080/"
        },
        "id": "haKC2YW6PvFC",
        "outputId": "ae9b59c1-b162-4b42-ecca-e8c50cc3c494"
      },
      "source": [
        "print(history.history.keys())"
      ],
      "execution_count": 17,
      "outputs": [
        {
          "output_type": "stream",
          "text": [
            "dict_keys(['loss', 'accuracy'])\n"
          ],
          "name": "stdout"
        }
      ]
    },
    {
      "cell_type": "code",
      "metadata": {
        "colab": {
          "base_uri": "https://localhost:8080/",
          "height": 295
        },
        "id": "kQo35nKBPyin",
        "outputId": "7a242217-20ca-4260-8367-1d169a1eee5f"
      },
      "source": [
        "loss = history.history['loss']\n",
        "accuracy = history.history['accuracy']\n",
        "\n",
        "fig, axs = plt.subplots(nrows=1,ncols=2,figsize=(10,4))\n",
        "axs[0].plot(range(len(loss)), loss)\n",
        "axs[0].set(xlabel=\"Epochs\", ylabel=\"Loss\", title=\"Training loss\")\n",
        "axs[1].plot(range(len(accuracy)), accuracy)\n",
        "axs[1].set(xlabel=\"Epochs\", ylabel=\"Accuracy\", title=\"Training accuracy\")\n",
        "plt.show()"
      ],
      "execution_count": 18,
      "outputs": [
        {
          "output_type": "display_data",
          "data": {
            "image/png": "[encoded data removed]",
            "text/plain": [
              "<Figure size 720x288 with 2 Axes>"
            ]
          },
          "metadata": {
            "tags": [],
            "needs_background": "light"
          }
        }
      ]
    }
  ]
}