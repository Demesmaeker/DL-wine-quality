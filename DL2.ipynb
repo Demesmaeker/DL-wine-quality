{
  "nbformat": 4,
  "nbformat_minor": 0,
  "metadata": {
    "colab": {
      "name": "DL2.ipynb",
      "provenance": [],
      "collapsed_sections": [],
      "authorship_tag": "ABX9TyMGzNv0W6dr9ePcS6MGN4NQ",
      "include_colab_link": true
    },
    "kernelspec": {
      "name": "python3",
      "display_name": "Python 3"
    }
  },
  "cells": [
    {
      "cell_type": "markdown",
      "metadata": {
        "id": "view-in-github",
        "colab_type": "text"
      },
      "source": [
        "<a href=\"https://colab.research.google.com/github/Demesmaeker/DL-wine-quality/blob/main/DL2.ipynb\" target=\"_parent\"><img src=\"https://colab.research.google.com/assets/colab-badge.svg\" alt=\"Open In Colab\"/></a>"
      ]
    },
    {
      "cell_type": "code",
      "metadata": {
        "id": "hOti0IxFr7Fk"
      },
      "source": [
        "import pandas as pd\n",
        "import numpy as np\n",
        "import tensorflow as tf\n",
        "from tensorflow import keras\n",
        "from tensorflow.keras.models import Sequential\n",
        "from tensorflow.keras.layers import Dense, Activation, Flatten\n",
        "from matplotlib import pyplot as plt\n",
        "%matplotlib inline"
      ],
      "execution_count": 1,
      "outputs": []
    },
    {
      "cell_type": "code",
      "metadata": {
        "colab": {
          "resources": {
            "http://localhost:8080/nbextensions/google.colab/files.js": {
              "data": "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",
              "ok": true,
              "headers": [
                [
                  "content-type",
                  "application/javascript"
                ]
              ],
              "status": 200,
              "status_text": ""
            }
          },
          "base_uri": "https://localhost:8080/",
          "height": 72
        },
        "id": "fIyEVv1Buou6",
        "outputId": "77113ed1-2912-417c-fba1-f53029bcb0a1"
      },
      "source": [
        "from google.colab import files\n",
        "uploaded = files.upload()"
      ],
      "execution_count": 2,
      "outputs": [
        {
          "output_type": "display_data",
          "data": {
            "text/html": [
              "\n",
              "     <input type=\"file\" id=\"files-48b3cf3c-3777-4e76-b392-6933242a1ee9\" name=\"files[]\" multiple disabled\n",
              "        style=\"border:none\" />\n",
              "     <output id=\"result-48b3cf3c-3777-4e76-b392-6933242a1ee9\">\n",
              "      Upload widget is only available when the cell has been executed in the\n",
              "      current browser session. Please rerun this cell to enable.\n",
              "      </output>\n",
              "      <script src=\"/nbextensions/google.colab/files.js\"></script> "
            ],
            "text/plain": [
              "<IPython.core.display.HTML object>"
            ]
          },
          "metadata": {
            "tags": []
          }
        },
        {
          "output_type": "stream",
          "text": [
            "Saving wine.csv to wine.csv\n"
          ],
          "name": "stdout"
        }
      ]
    },
    {
      "cell_type": "markdown",
      "metadata": {
        "id": "MPXXkASpuy25"
      },
      "source": [
        "# Exploring & Reshaping the datas"
      ]
    },
    {
      "cell_type": "markdown",
      "metadata": {
        "id": "FswPb_xlwh2c"
      },
      "source": [
        "## Load the dataset"
      ]
    },
    {
      "cell_type": "code",
      "metadata": {
        "colab": {
          "base_uri": "https://localhost:8080/",
          "height": 376
        },
        "id": "LzqXVOBqurpQ",
        "outputId": "4ecdc627-840b-4a31-d937-02296359ff3c"
      },
      "source": [
        "df = pd.read_csv(\"wine.csv\")\n",
        "df.sample(10)"
      ],
      "execution_count": 3,
      "outputs": [
        {
          "output_type": "execute_result",
          "data": {
            "text/html": [
              "<div>\n",
              "<style scoped>\n",
              "    .dataframe tbody tr th:only-of-type {\n",
              "        vertical-align: middle;\n",
              "    }\n",
              "\n",
              "    .dataframe tbody tr th {\n",
              "        vertical-align: top;\n",
              "    }\n",
              "\n",
              "    .dataframe thead th {\n",
              "        text-align: right;\n",
              "    }\n",
              "</style>\n",
              "<table border=\"1\" class=\"dataframe\">\n",
              "  <thead>\n",
              "    <tr style=\"text-align: right;\">\n",
              "      <th></th>\n",
              "      <th>type</th>\n",
              "      <th>fixed acidity</th>\n",
              "      <th>volatile acidity</th>\n",
              "      <th>citric acid</th>\n",
              "      <th>residual sugar</th>\n",
              "      <th>chlorides</th>\n",
              "      <th>free sulfur dioxide</th>\n",
              "      <th>total sulfur dioxide</th>\n",
              "      <th>density</th>\n",
              "      <th>pH</th>\n",
              "      <th>sulphates</th>\n",
              "      <th>alcohol</th>\n",
              "      <th>quality</th>\n",
              "    </tr>\n",
              "  </thead>\n",
              "  <tbody>\n",
              "    <tr>\n",
              "      <th>5240</th>\n",
              "      <td>red</td>\n",
              "      <td>10.9</td>\n",
              "      <td>0.39</td>\n",
              "      <td>0.47</td>\n",
              "      <td>1.8</td>\n",
              "      <td>0.118</td>\n",
              "      <td>6.0</td>\n",
              "      <td>14.0</td>\n",
              "      <td>0.99820</td>\n",
              "      <td>3.30</td>\n",
              "      <td>0.75</td>\n",
              "      <td>9.8</td>\n",
              "      <td>6</td>\n",
              "    </tr>\n",
              "    <tr>\n",
              "      <th>4462</th>\n",
              "      <td>white</td>\n",
              "      <td>7.1</td>\n",
              "      <td>0.42</td>\n",
              "      <td>0.20</td>\n",
              "      <td>2.8</td>\n",
              "      <td>0.038</td>\n",
              "      <td>28.0</td>\n",
              "      <td>109.0</td>\n",
              "      <td>0.98968</td>\n",
              "      <td>3.23</td>\n",
              "      <td>0.47</td>\n",
              "      <td>13.4</td>\n",
              "      <td>6</td>\n",
              "    </tr>\n",
              "    <tr>\n",
              "      <th>4135</th>\n",
              "      <td>white</td>\n",
              "      <td>5.9</td>\n",
              "      <td>0.26</td>\n",
              "      <td>0.24</td>\n",
              "      <td>2.4</td>\n",
              "      <td>0.046</td>\n",
              "      <td>27.0</td>\n",
              "      <td>132.0</td>\n",
              "      <td>0.99234</td>\n",
              "      <td>3.63</td>\n",
              "      <td>0.73</td>\n",
              "      <td>11.3</td>\n",
              "      <td>5</td>\n",
              "    </tr>\n",
              "    <tr>\n",
              "      <th>3436</th>\n",
              "      <td>white</td>\n",
              "      <td>6.9</td>\n",
              "      <td>0.24</td>\n",
              "      <td>0.23</td>\n",
              "      <td>7.1</td>\n",
              "      <td>0.041</td>\n",
              "      <td>20.0</td>\n",
              "      <td>97.0</td>\n",
              "      <td>0.99246</td>\n",
              "      <td>3.10</td>\n",
              "      <td>0.85</td>\n",
              "      <td>11.4</td>\n",
              "      <td>6</td>\n",
              "    </tr>\n",
              "    <tr>\n",
              "      <th>6035</th>\n",
              "      <td>red</td>\n",
              "      <td>10.4</td>\n",
              "      <td>0.52</td>\n",
              "      <td>0.45</td>\n",
              "      <td>2.0</td>\n",
              "      <td>0.080</td>\n",
              "      <td>6.0</td>\n",
              "      <td>13.0</td>\n",
              "      <td>0.99774</td>\n",
              "      <td>3.22</td>\n",
              "      <td>0.76</td>\n",
              "      <td>11.4</td>\n",
              "      <td>6</td>\n",
              "    </tr>\n",
              "    <tr>\n",
              "      <th>3672</th>\n",
              "      <td>white</td>\n",
              "      <td>7.3</td>\n",
              "      <td>0.41</td>\n",
              "      <td>0.29</td>\n",
              "      <td>1.8</td>\n",
              "      <td>0.032</td>\n",
              "      <td>26.0</td>\n",
              "      <td>74.0</td>\n",
              "      <td>0.98889</td>\n",
              "      <td>2.96</td>\n",
              "      <td>0.35</td>\n",
              "      <td>13.0</td>\n",
              "      <td>8</td>\n",
              "    </tr>\n",
              "    <tr>\n",
              "      <th>5649</th>\n",
              "      <td>red</td>\n",
              "      <td>8.3</td>\n",
              "      <td>0.65</td>\n",
              "      <td>0.10</td>\n",
              "      <td>2.9</td>\n",
              "      <td>0.089</td>\n",
              "      <td>17.0</td>\n",
              "      <td>40.0</td>\n",
              "      <td>0.99803</td>\n",
              "      <td>3.29</td>\n",
              "      <td>0.55</td>\n",
              "      <td>9.5</td>\n",
              "      <td>5</td>\n",
              "    </tr>\n",
              "    <tr>\n",
              "      <th>480</th>\n",
              "      <td>white</td>\n",
              "      <td>6.7</td>\n",
              "      <td>0.47</td>\n",
              "      <td>0.34</td>\n",
              "      <td>8.9</td>\n",
              "      <td>0.043</td>\n",
              "      <td>31.0</td>\n",
              "      <td>172.0</td>\n",
              "      <td>0.99640</td>\n",
              "      <td>3.22</td>\n",
              "      <td>0.60</td>\n",
              "      <td>9.2</td>\n",
              "      <td>5</td>\n",
              "    </tr>\n",
              "    <tr>\n",
              "      <th>851</th>\n",
              "      <td>white</td>\n",
              "      <td>8.2</td>\n",
              "      <td>0.38</td>\n",
              "      <td>0.49</td>\n",
              "      <td>13.6</td>\n",
              "      <td>0.042</td>\n",
              "      <td>58.0</td>\n",
              "      <td>166.0</td>\n",
              "      <td>0.99855</td>\n",
              "      <td>3.10</td>\n",
              "      <td>0.54</td>\n",
              "      <td>9.4</td>\n",
              "      <td>5</td>\n",
              "    </tr>\n",
              "    <tr>\n",
              "      <th>5490</th>\n",
              "      <td>red</td>\n",
              "      <td>9.0</td>\n",
              "      <td>0.45</td>\n",
              "      <td>0.49</td>\n",
              "      <td>2.6</td>\n",
              "      <td>0.084</td>\n",
              "      <td>21.0</td>\n",
              "      <td>75.0</td>\n",
              "      <td>0.99870</td>\n",
              "      <td>3.35</td>\n",
              "      <td>0.57</td>\n",
              "      <td>9.7</td>\n",
              "      <td>5</td>\n",
              "    </tr>\n",
              "  </tbody>\n",
              "</table>\n",
              "</div>"
            ],
            "text/plain": [
              "       type  fixed acidity  volatile acidity  ...  sulphates  alcohol  quality\n",
              "5240    red           10.9              0.39  ...       0.75      9.8        6\n",
              "4462  white            7.1              0.42  ...       0.47     13.4        6\n",
              "4135  white            5.9              0.26  ...       0.73     11.3        5\n",
              "3436  white            6.9              0.24  ...       0.85     11.4        6\n",
              "6035    red           10.4              0.52  ...       0.76     11.4        6\n",
              "3672  white            7.3              0.41  ...       0.35     13.0        8\n",
              "5649    red            8.3              0.65  ...       0.55      9.5        5\n",
              "480   white            6.7              0.47  ...       0.60      9.2        5\n",
              "851   white            8.2              0.38  ...       0.54      9.4        5\n",
              "5490    red            9.0              0.45  ...       0.57      9.7        5\n",
              "\n",
              "[10 rows x 13 columns]"
            ]
          },
          "metadata": {
            "tags": []
          },
          "execution_count": 3
        }
      ]
    },
    {
      "cell_type": "code",
      "metadata": {
        "colab": {
          "base_uri": "https://localhost:8080/"
        },
        "id": "8kJnA_KMu-CE",
        "outputId": "ab9d6fca-2441-49fb-85c2-b29f8dea8d46"
      },
      "source": [
        "print(df[\"type\"].value_counts())\n",
        "print(df[\"quality\"].value_counts())\n",
        "\n",
        "\n",
        "df.isnull().sum()"
      ],
      "execution_count": 4,
      "outputs": [
        {
          "output_type": "stream",
          "text": [
            "white    4898\n",
            "red      1599\n",
            "Name: type, dtype: int64\n",
            "6    2836\n",
            "5    2138\n",
            "7    1079\n",
            "4     216\n",
            "8     193\n",
            "3      30\n",
            "9       5\n",
            "Name: quality, dtype: int64\n"
          ],
          "name": "stdout"
        },
        {
          "output_type": "execute_result",
          "data": {
            "text/plain": [
              "type                     0\n",
              "fixed acidity           10\n",
              "volatile acidity         8\n",
              "citric acid              3\n",
              "residual sugar           2\n",
              "chlorides                2\n",
              "free sulfur dioxide      0\n",
              "total sulfur dioxide     0\n",
              "density                  0\n",
              "pH                       9\n",
              "sulphates                4\n",
              "alcohol                  0\n",
              "quality                  0\n",
              "dtype: int64"
            ]
          },
          "metadata": {
            "tags": []
          },
          "execution_count": 4
        }
      ]
    },
    {
      "cell_type": "code",
      "metadata": {
        "colab": {
          "base_uri": "https://localhost:8080/"
        },
        "id": "IrHwUZYENXFs",
        "outputId": "066de686-b977-4600-a82f-db4dcb83e12d"
      },
      "source": [
        "df = df.dropna()\n",
        "df.isnull().sum()"
      ],
      "execution_count": 5,
      "outputs": [
        {
          "output_type": "execute_result",
          "data": {
            "text/plain": [
              "type                    0\n",
              "fixed acidity           0\n",
              "volatile acidity        0\n",
              "citric acid             0\n",
              "residual sugar          0\n",
              "chlorides               0\n",
              "free sulfur dioxide     0\n",
              "total sulfur dioxide    0\n",
              "density                 0\n",
              "pH                      0\n",
              "sulphates               0\n",
              "alcohol                 0\n",
              "quality                 0\n",
              "dtype: int64"
            ]
          },
          "metadata": {
            "tags": []
          },
          "execution_count": 5
        }
      ]
    },
    {
      "cell_type": "code",
      "metadata": {
        "colab": {
          "base_uri": "https://localhost:8080/"
        },
        "id": "OwUIBv_ZNj3D",
        "outputId": "b38483d2-a268-406a-a359-6156b235e349"
      },
      "source": [
        "print(df[\"type\"].value_counts())\n",
        "print(df[\"quality\"].value_counts())"
      ],
      "execution_count": 6,
      "outputs": [
        {
          "output_type": "stream",
          "text": [
            "white    4870\n",
            "red      1593\n",
            "Name: type, dtype: int64\n",
            "6    2820\n",
            "5    2128\n",
            "7    1074\n",
            "4     214\n",
            "8     192\n",
            "3      30\n",
            "9       5\n",
            "Name: quality, dtype: int64\n"
          ],
          "name": "stdout"
        }
      ]
    },
    {
      "cell_type": "markdown",
      "metadata": {
        "id": "l9p_3lQlwm_N"
      },
      "source": [
        "## Get Dummies"
      ]
    },
    {
      "cell_type": "code",
      "metadata": {
        "colab": {
          "base_uri": "https://localhost:8080/",
          "height": 393
        },
        "id": "ziGkc-zivSSE",
        "outputId": "090dfacb-273b-486f-b8d3-69ee897ada5f"
      },
      "source": [
        "wines = pd.get_dummies(df, columns=['type'])\n",
        "wines.sample(10)"
      ],
      "execution_count": 7,
      "outputs": [
        {
          "output_type": "execute_result",
          "data": {
            "text/html": [
              "<div>\n",
              "<style scoped>\n",
              "    .dataframe tbody tr th:only-of-type {\n",
              "        vertical-align: middle;\n",
              "    }\n",
              "\n",
              "    .dataframe tbody tr th {\n",
              "        vertical-align: top;\n",
              "    }\n",
              "\n",
              "    .dataframe thead th {\n",
              "        text-align: right;\n",
              "    }\n",
              "</style>\n",
              "<table border=\"1\" class=\"dataframe\">\n",
              "  <thead>\n",
              "    <tr style=\"text-align: right;\">\n",
              "      <th></th>\n",
              "      <th>fixed acidity</th>\n",
              "      <th>volatile acidity</th>\n",
              "      <th>citric acid</th>\n",
              "      <th>residual sugar</th>\n",
              "      <th>chlorides</th>\n",
              "      <th>free sulfur dioxide</th>\n",
              "      <th>total sulfur dioxide</th>\n",
              "      <th>density</th>\n",
              "      <th>pH</th>\n",
              "      <th>sulphates</th>\n",
              "      <th>alcohol</th>\n",
              "      <th>quality</th>\n",
              "      <th>type_red</th>\n",
              "      <th>type_white</th>\n",
              "    </tr>\n",
              "  </thead>\n",
              "  <tbody>\n",
              "    <tr>\n",
              "      <th>2219</th>\n",
              "      <td>6.5</td>\n",
              "      <td>0.240</td>\n",
              "      <td>0.36</td>\n",
              "      <td>2.2</td>\n",
              "      <td>0.027</td>\n",
              "      <td>36.0</td>\n",
              "      <td>134.0</td>\n",
              "      <td>0.98980</td>\n",
              "      <td>3.28</td>\n",
              "      <td>0.36</td>\n",
              "      <td>12.5</td>\n",
              "      <td>7</td>\n",
              "      <td>0</td>\n",
              "      <td>1</td>\n",
              "    </tr>\n",
              "    <tr>\n",
              "      <th>5812</th>\n",
              "      <td>7.3</td>\n",
              "      <td>0.305</td>\n",
              "      <td>0.39</td>\n",
              "      <td>1.2</td>\n",
              "      <td>0.059</td>\n",
              "      <td>7.0</td>\n",
              "      <td>11.0</td>\n",
              "      <td>0.99331</td>\n",
              "      <td>3.29</td>\n",
              "      <td>0.52</td>\n",
              "      <td>11.5</td>\n",
              "      <td>6</td>\n",
              "      <td>1</td>\n",
              "      <td>0</td>\n",
              "    </tr>\n",
              "    <tr>\n",
              "      <th>219</th>\n",
              "      <td>7.5</td>\n",
              "      <td>0.230</td>\n",
              "      <td>0.36</td>\n",
              "      <td>7.0</td>\n",
              "      <td>0.036</td>\n",
              "      <td>43.0</td>\n",
              "      <td>161.0</td>\n",
              "      <td>0.99380</td>\n",
              "      <td>3.04</td>\n",
              "      <td>0.32</td>\n",
              "      <td>11.0</td>\n",
              "      <td>5</td>\n",
              "      <td>0</td>\n",
              "      <td>1</td>\n",
              "    </tr>\n",
              "    <tr>\n",
              "      <th>1958</th>\n",
              "      <td>7.4</td>\n",
              "      <td>0.320</td>\n",
              "      <td>0.55</td>\n",
              "      <td>16.6</td>\n",
              "      <td>0.056</td>\n",
              "      <td>53.0</td>\n",
              "      <td>238.0</td>\n",
              "      <td>1.00170</td>\n",
              "      <td>2.96</td>\n",
              "      <td>0.58</td>\n",
              "      <td>8.7</td>\n",
              "      <td>6</td>\n",
              "      <td>0</td>\n",
              "      <td>1</td>\n",
              "    </tr>\n",
              "    <tr>\n",
              "      <th>5916</th>\n",
              "      <td>8.0</td>\n",
              "      <td>0.180</td>\n",
              "      <td>0.37</td>\n",
              "      <td>0.9</td>\n",
              "      <td>0.049</td>\n",
              "      <td>36.0</td>\n",
              "      <td>109.0</td>\n",
              "      <td>0.99007</td>\n",
              "      <td>2.89</td>\n",
              "      <td>0.44</td>\n",
              "      <td>12.7</td>\n",
              "      <td>6</td>\n",
              "      <td>1</td>\n",
              "      <td>0</td>\n",
              "    </tr>\n",
              "    <tr>\n",
              "      <th>299</th>\n",
              "      <td>6.7</td>\n",
              "      <td>0.170</td>\n",
              "      <td>0.50</td>\n",
              "      <td>2.1</td>\n",
              "      <td>0.043</td>\n",
              "      <td>27.0</td>\n",
              "      <td>122.0</td>\n",
              "      <td>0.99230</td>\n",
              "      <td>3.15</td>\n",
              "      <td>0.45</td>\n",
              "      <td>10.3</td>\n",
              "      <td>6</td>\n",
              "      <td>0</td>\n",
              "      <td>1</td>\n",
              "    </tr>\n",
              "    <tr>\n",
              "      <th>3330</th>\n",
              "      <td>6.7</td>\n",
              "      <td>0.230</td>\n",
              "      <td>0.33</td>\n",
              "      <td>8.1</td>\n",
              "      <td>0.048</td>\n",
              "      <td>45.0</td>\n",
              "      <td>176.0</td>\n",
              "      <td>0.99472</td>\n",
              "      <td>3.11</td>\n",
              "      <td>0.52</td>\n",
              "      <td>10.1</td>\n",
              "      <td>6</td>\n",
              "      <td>0</td>\n",
              "      <td>1</td>\n",
              "    </tr>\n",
              "    <tr>\n",
              "      <th>1309</th>\n",
              "      <td>9.4</td>\n",
              "      <td>0.170</td>\n",
              "      <td>0.55</td>\n",
              "      <td>1.6</td>\n",
              "      <td>0.049</td>\n",
              "      <td>14.0</td>\n",
              "      <td>94.0</td>\n",
              "      <td>0.99490</td>\n",
              "      <td>3.02</td>\n",
              "      <td>0.61</td>\n",
              "      <td>10.3</td>\n",
              "      <td>6</td>\n",
              "      <td>0</td>\n",
              "      <td>1</td>\n",
              "    </tr>\n",
              "    <tr>\n",
              "      <th>6443</th>\n",
              "      <td>6.5</td>\n",
              "      <td>0.630</td>\n",
              "      <td>0.33</td>\n",
              "      <td>1.8</td>\n",
              "      <td>0.059</td>\n",
              "      <td>16.0</td>\n",
              "      <td>28.0</td>\n",
              "      <td>0.99531</td>\n",
              "      <td>3.36</td>\n",
              "      <td>0.64</td>\n",
              "      <td>10.1</td>\n",
              "      <td>6</td>\n",
              "      <td>1</td>\n",
              "      <td>0</td>\n",
              "    </tr>\n",
              "    <tr>\n",
              "      <th>1926</th>\n",
              "      <td>6.3</td>\n",
              "      <td>0.220</td>\n",
              "      <td>0.57</td>\n",
              "      <td>1.4</td>\n",
              "      <td>0.208</td>\n",
              "      <td>14.0</td>\n",
              "      <td>96.0</td>\n",
              "      <td>0.99320</td>\n",
              "      <td>3.16</td>\n",
              "      <td>0.43</td>\n",
              "      <td>10.0</td>\n",
              "      <td>6</td>\n",
              "      <td>0</td>\n",
              "      <td>1</td>\n",
              "    </tr>\n",
              "  </tbody>\n",
              "</table>\n",
              "</div>"
            ],
            "text/plain": [
              "      fixed acidity  volatile acidity  ...  type_red  type_white\n",
              "2219            6.5             0.240  ...         0           1\n",
              "5812            7.3             0.305  ...         1           0\n",
              "219             7.5             0.230  ...         0           1\n",
              "1958            7.4             0.320  ...         0           1\n",
              "5916            8.0             0.180  ...         1           0\n",
              "299             6.7             0.170  ...         0           1\n",
              "3330            6.7             0.230  ...         0           1\n",
              "1309            9.4             0.170  ...         0           1\n",
              "6443            6.5             0.630  ...         1           0\n",
              "1926            6.3             0.220  ...         0           1\n",
              "\n",
              "[10 rows x 14 columns]"
            ]
          },
          "metadata": {
            "tags": []
          },
          "execution_count": 7
        }
      ]
    },
    {
      "cell_type": "markdown",
      "metadata": {
        "id": "IotOqKYOwxr8"
      },
      "source": [
        "## Split the dataset"
      ]
    },
    {
      "cell_type": "code",
      "metadata": {
        "colab": {
          "base_uri": "https://localhost:8080/"
        },
        "id": "lCspc0hgwZft",
        "outputId": "050b4240-a7a2-4ca8-c05c-48322e80b89a"
      },
      "source": [
        "x = wines.iloc[:,:-3].join(wines['type_red'].to_frame()\n",
        "                    ).join(wines['type_white'].to_frame()).to_numpy()\n",
        "\n",
        "y = wines.iloc[:,-3].astype('int32').to_numpy()\n",
        "y = [(round(each / 10)) for each in y]\n",
        "\n",
        "y = np.reshape(y, (6463, 1))\n",
        "\n",
        "print(x.shape)\n",
        "print(y.shape)"
      ],
      "execution_count": 8,
      "outputs": [
        {
          "output_type": "stream",
          "text": [
            "(6463, 13)\n",
            "(6463, 1)\n"
          ],
          "name": "stdout"
        }
      ]
    },
    {
      "cell_type": "code",
      "metadata": {
        "id": "1V7yuRvcxLA9"
      },
      "source": [
        "from sklearn.model_selection import train_test_split\n",
        "X_train, X_test, y_train, y_test = train_test_split(x, y, test_size=0.2)"
      ],
      "execution_count": 9,
      "outputs": []
    },
    {
      "cell_type": "code",
      "metadata": {
        "colab": {
          "base_uri": "https://localhost:8080/"
        },
        "id": "V9hJKX7GxORZ",
        "outputId": "07517647-3f34-42a6-c7b3-9fa0516311eb"
      },
      "source": [
        "print(X_train.shape)\n",
        "print(X_test.shape)\n",
        "print(y_train.shape)\n",
        "print(y_test.shape)"
      ],
      "execution_count": 10,
      "outputs": [
        {
          "output_type": "stream",
          "text": [
            "(5170, 13)\n",
            "(1293, 13)\n",
            "(5170, 1)\n",
            "(1293, 1)\n"
          ],
          "name": "stdout"
        }
      ]
    },
    {
      "cell_type": "markdown",
      "metadata": {
        "id": "2hGYeCovx6R8"
      },
      "source": [
        "# Building the Neural Network"
      ]
    },
    {
      "cell_type": "markdown",
      "metadata": {
        "id": "LSoyzrmTyEb-"
      },
      "source": [
        "## Create the Model"
      ]
    },
    {
      "cell_type": "code",
      "metadata": {
        "id": "VSlQYbxbx2_s"
      },
      "source": [
        "model = Sequential()"
      ],
      "execution_count": 11,
      "outputs": []
    },
    {
      "cell_type": "markdown",
      "metadata": {
        "id": "SUIb59YYyJB2"
      },
      "source": [
        "## Add the layers"
      ]
    },
    {
      "cell_type": "code",
      "metadata": {
        "id": "aKOr_ZIgyIWQ"
      },
      "source": [
        "model.add(Dense(64, input_dim=13, activation='relu'))\n",
        "model.add(Flatten())\n",
        "model.add(Dense(42, activation='relu'))\n",
        "model.add(Flatten())\n",
        "model.add(Dense(16, activation='relu'))\n",
        "model.add(Flatten())\n",
        "model.add(Dense(1, activation='sigmoid'))"
      ],
      "execution_count": 12,
      "outputs": []
    },
    {
      "cell_type": "markdown",
      "metadata": {
        "id": "HAP8V7-BzF0y"
      },
      "source": [
        "# Compiling the Model"
      ]
    },
    {
      "cell_type": "code",
      "metadata": {
        "id": "XGhv5Wh5zCWc"
      },
      "source": [
        "model.compile(loss='mean_squared_error',\n",
        "              optimizer=\"adam\",\n",
        "              metrics=['accuracy'])"
      ],
      "execution_count": 13,
      "outputs": []
    },
    {
      "cell_type": "markdown",
      "metadata": {
        "id": "D8OmMVQvzsDZ"
      },
      "source": [
        "# Training"
      ]
    },
    {
      "cell_type": "code",
      "metadata": {
        "colab": {
          "base_uri": "https://localhost:8080/"
        },
        "id": "Kq-_46760INI",
        "outputId": "b344b6fe-6010-4f92-de7e-c9da3d50cdf2"
      },
      "source": [
        "history = model.fit(X_train, y_train, epochs=100)"
      ],
      "execution_count": 14,
      "outputs": [
        {
          "output_type": "stream",
          "text": [
            "Epoch 1/100\n",
            "162/162 [==============================] - 1s 2ms/step - loss: 0.3551 - accuracy: 0.5427\n",
            "Epoch 2/100\n",
            "162/162 [==============================] - 0s 1ms/step - loss: 0.2389 - accuracy: 0.6246\n",
            "Epoch 3/100\n",
            "162/162 [==============================] - 0s 2ms/step - loss: 0.2226 - accuracy: 0.6403\n",
            "Epoch 4/100\n",
            "162/162 [==============================] - 0s 1ms/step - loss: 0.2189 - accuracy: 0.6562\n",
            "Epoch 5/100\n",
            "162/162 [==============================] - 0s 1ms/step - loss: 0.2153 - accuracy: 0.6698\n",
            "Epoch 6/100\n",
            "162/162 [==============================] - 0s 1ms/step - loss: 0.2030 - accuracy: 0.6824\n",
            "Epoch 7/100\n",
            "162/162 [==============================] - 0s 1ms/step - loss: 0.2030 - accuracy: 0.6961\n",
            "Epoch 8/100\n",
            "162/162 [==============================] - 0s 1ms/step - loss: 0.2051 - accuracy: 0.6958\n",
            "Epoch 9/100\n",
            "162/162 [==============================] - 0s 1ms/step - loss: 0.1877 - accuracy: 0.7082\n",
            "Epoch 10/100\n",
            "162/162 [==============================] - 0s 1ms/step - loss: 0.2008 - accuracy: 0.6917\n",
            "Epoch 11/100\n",
            "162/162 [==============================] - 0s 1ms/step - loss: 0.1898 - accuracy: 0.7033\n",
            "Epoch 12/100\n",
            "162/162 [==============================] - 0s 1ms/step - loss: 0.1914 - accuracy: 0.7083\n",
            "Epoch 13/100\n",
            "162/162 [==============================] - 0s 1ms/step - loss: 0.1873 - accuracy: 0.7026\n",
            "Epoch 14/100\n",
            "162/162 [==============================] - 0s 1ms/step - loss: 0.1846 - accuracy: 0.7207\n",
            "Epoch 15/100\n",
            "162/162 [==============================] - 0s 1ms/step - loss: 0.1889 - accuracy: 0.7224\n",
            "Epoch 16/100\n",
            "162/162 [==============================] - 0s 1ms/step - loss: 0.1973 - accuracy: 0.6965\n",
            "Epoch 17/100\n",
            "162/162 [==============================] - 0s 1ms/step - loss: 0.1945 - accuracy: 0.6996\n",
            "Epoch 18/100\n",
            "162/162 [==============================] - 0s 1ms/step - loss: 0.1794 - accuracy: 0.7276\n",
            "Epoch 19/100\n",
            "162/162 [==============================] - 0s 1ms/step - loss: 0.1921 - accuracy: 0.7011\n",
            "Epoch 20/100\n",
            "162/162 [==============================] - 0s 1ms/step - loss: 0.1812 - accuracy: 0.7248\n",
            "Epoch 21/100\n",
            "162/162 [==============================] - 0s 1ms/step - loss: 0.1787 - accuracy: 0.7310\n",
            "Epoch 22/100\n",
            "162/162 [==============================] - 0s 1ms/step - loss: 0.1804 - accuracy: 0.7180\n",
            "Epoch 23/100\n",
            "162/162 [==============================] - 0s 1ms/step - loss: 0.1792 - accuracy: 0.7219\n",
            "Epoch 24/100\n",
            "162/162 [==============================] - 0s 1ms/step - loss: 0.1801 - accuracy: 0.7270\n",
            "Epoch 25/100\n",
            "162/162 [==============================] - 0s 1ms/step - loss: 0.1801 - accuracy: 0.7260\n",
            "Epoch 26/100\n",
            "162/162 [==============================] - 0s 1ms/step - loss: 0.1732 - accuracy: 0.7329\n",
            "Epoch 27/100\n",
            "162/162 [==============================] - 0s 1ms/step - loss: 0.1780 - accuracy: 0.7309\n",
            "Epoch 28/100\n",
            "162/162 [==============================] - 0s 1ms/step - loss: 0.1739 - accuracy: 0.7365\n",
            "Epoch 29/100\n",
            "162/162 [==============================] - 0s 1ms/step - loss: 0.1720 - accuracy: 0.7357\n",
            "Epoch 30/100\n",
            "162/162 [==============================] - 0s 1ms/step - loss: 0.1762 - accuracy: 0.7336\n",
            "Epoch 31/100\n",
            "162/162 [==============================] - 0s 1ms/step - loss: 0.1711 - accuracy: 0.7383\n",
            "Epoch 32/100\n",
            "162/162 [==============================] - 0s 1ms/step - loss: 0.1741 - accuracy: 0.7401\n",
            "Epoch 33/100\n",
            "162/162 [==============================] - 0s 1ms/step - loss: 0.1703 - accuracy: 0.7413\n",
            "Epoch 34/100\n",
            "162/162 [==============================] - 0s 1ms/step - loss: 0.1702 - accuracy: 0.7433\n",
            "Epoch 35/100\n",
            "162/162 [==============================] - 0s 1ms/step - loss: 0.1766 - accuracy: 0.7345\n",
            "Epoch 36/100\n",
            "162/162 [==============================] - 0s 1ms/step - loss: 0.1778 - accuracy: 0.7279\n",
            "Epoch 37/100\n",
            "162/162 [==============================] - 0s 1ms/step - loss: 0.1773 - accuracy: 0.7328\n",
            "Epoch 38/100\n",
            "162/162 [==============================] - 0s 1ms/step - loss: 0.1787 - accuracy: 0.7301\n",
            "Epoch 39/100\n",
            "162/162 [==============================] - 0s 1ms/step - loss: 0.1731 - accuracy: 0.7409\n",
            "Epoch 40/100\n",
            "162/162 [==============================] - 0s 1ms/step - loss: 0.1659 - accuracy: 0.7397\n",
            "Epoch 41/100\n",
            "162/162 [==============================] - 0s 1ms/step - loss: 0.1731 - accuracy: 0.7361\n",
            "Epoch 42/100\n",
            "162/162 [==============================] - 0s 1ms/step - loss: 0.1669 - accuracy: 0.7463\n",
            "Epoch 43/100\n",
            "162/162 [==============================] - 0s 1ms/step - loss: 0.1760 - accuracy: 0.7269\n",
            "Epoch 44/100\n",
            "162/162 [==============================] - 0s 1ms/step - loss: 0.1720 - accuracy: 0.7349\n",
            "Epoch 45/100\n",
            "162/162 [==============================] - 0s 2ms/step - loss: 0.1725 - accuracy: 0.7386\n",
            "Epoch 46/100\n",
            "162/162 [==============================] - 0s 1ms/step - loss: 0.1685 - accuracy: 0.7497\n",
            "Epoch 47/100\n",
            "162/162 [==============================] - 0s 1ms/step - loss: 0.1744 - accuracy: 0.7323\n",
            "Epoch 48/100\n",
            "162/162 [==============================] - 0s 1ms/step - loss: 0.1699 - accuracy: 0.7347\n",
            "Epoch 49/100\n",
            "162/162 [==============================] - 0s 1ms/step - loss: 0.1728 - accuracy: 0.7414\n",
            "Epoch 50/100\n",
            "162/162 [==============================] - 0s 1ms/step - loss: 0.1652 - accuracy: 0.7471\n",
            "Epoch 51/100\n",
            "162/162 [==============================] - 0s 1ms/step - loss: 0.1716 - accuracy: 0.7376\n",
            "Epoch 52/100\n",
            "162/162 [==============================] - 0s 1ms/step - loss: 0.1712 - accuracy: 0.7437\n",
            "Epoch 53/100\n",
            "162/162 [==============================] - 0s 1ms/step - loss: 0.1664 - accuracy: 0.7500\n",
            "Epoch 54/100\n",
            "162/162 [==============================] - 0s 1ms/step - loss: 0.1691 - accuracy: 0.7465\n",
            "Epoch 55/100\n",
            "162/162 [==============================] - 0s 1ms/step - loss: 0.1696 - accuracy: 0.7432\n",
            "Epoch 56/100\n",
            "162/162 [==============================] - 0s 1ms/step - loss: 0.1687 - accuracy: 0.7490\n",
            "Epoch 57/100\n",
            "162/162 [==============================] - 0s 1ms/step - loss: 0.1698 - accuracy: 0.7454\n",
            "Epoch 58/100\n",
            "162/162 [==============================] - 0s 1ms/step - loss: 0.1695 - accuracy: 0.7513\n",
            "Epoch 59/100\n",
            "162/162 [==============================] - 0s 1ms/step - loss: 0.1670 - accuracy: 0.7535\n",
            "Epoch 60/100\n",
            "162/162 [==============================] - 0s 1ms/step - loss: 0.1646 - accuracy: 0.7450\n",
            "Epoch 61/100\n",
            "162/162 [==============================] - 0s 1ms/step - loss: 0.1690 - accuracy: 0.7433\n",
            "Epoch 62/100\n",
            "162/162 [==============================] - 0s 1ms/step - loss: 0.1685 - accuracy: 0.7490\n",
            "Epoch 63/100\n",
            "162/162 [==============================] - 0s 1ms/step - loss: 0.1664 - accuracy: 0.7478\n",
            "Epoch 64/100\n",
            "162/162 [==============================] - 0s 1ms/step - loss: 0.1692 - accuracy: 0.7384\n",
            "Epoch 65/100\n",
            "162/162 [==============================] - 0s 1ms/step - loss: 0.1691 - accuracy: 0.7461\n",
            "Epoch 66/100\n",
            "162/162 [==============================] - 0s 1ms/step - loss: 0.1659 - accuracy: 0.7478\n",
            "Epoch 67/100\n",
            "162/162 [==============================] - 0s 1ms/step - loss: 0.1650 - accuracy: 0.7533\n",
            "Epoch 68/100\n",
            "162/162 [==============================] - 0s 1ms/step - loss: 0.1723 - accuracy: 0.7316\n",
            "Epoch 69/100\n",
            "162/162 [==============================] - 0s 1ms/step - loss: 0.1620 - accuracy: 0.7603\n",
            "Epoch 70/100\n",
            "162/162 [==============================] - 0s 1ms/step - loss: 0.1649 - accuracy: 0.7524\n",
            "Epoch 71/100\n",
            "162/162 [==============================] - 0s 1ms/step - loss: 0.1710 - accuracy: 0.7428\n",
            "Epoch 72/100\n",
            "162/162 [==============================] - 0s 2ms/step - loss: 0.1705 - accuracy: 0.7463\n",
            "Epoch 73/100\n",
            "162/162 [==============================] - 0s 1ms/step - loss: 0.1685 - accuracy: 0.7439\n",
            "Epoch 74/100\n",
            "162/162 [==============================] - 0s 1ms/step - loss: 0.1702 - accuracy: 0.7416\n",
            "Epoch 75/100\n",
            "162/162 [==============================] - 0s 1ms/step - loss: 0.1699 - accuracy: 0.7388\n",
            "Epoch 76/100\n",
            "162/162 [==============================] - 0s 1ms/step - loss: 0.1677 - accuracy: 0.7454\n",
            "Epoch 77/100\n",
            "162/162 [==============================] - 0s 1ms/step - loss: 0.1674 - accuracy: 0.7509\n",
            "Epoch 78/100\n",
            "162/162 [==============================] - 0s 1ms/step - loss: 0.1629 - accuracy: 0.7563\n",
            "Epoch 79/100\n",
            "162/162 [==============================] - 0s 1ms/step - loss: 0.1693 - accuracy: 0.7429\n",
            "Epoch 80/100\n",
            "162/162 [==============================] - 0s 1ms/step - loss: 0.1658 - accuracy: 0.7538\n",
            "Epoch 81/100\n",
            "162/162 [==============================] - 0s 1ms/step - loss: 0.1684 - accuracy: 0.7481\n",
            "Epoch 82/100\n",
            "162/162 [==============================] - 0s 1ms/step - loss: 0.1677 - accuracy: 0.7476\n",
            "Epoch 83/100\n",
            "162/162 [==============================] - 0s 1ms/step - loss: 0.1632 - accuracy: 0.7581\n",
            "Epoch 84/100\n",
            "162/162 [==============================] - 0s 1ms/step - loss: 0.1673 - accuracy: 0.7494\n",
            "Epoch 85/100\n",
            "162/162 [==============================] - 0s 1ms/step - loss: 0.1614 - accuracy: 0.7616\n",
            "Epoch 86/100\n",
            "162/162 [==============================] - 0s 1ms/step - loss: 0.1677 - accuracy: 0.7461\n",
            "Epoch 87/100\n",
            "162/162 [==============================] - 0s 1ms/step - loss: 0.1665 - accuracy: 0.7546\n",
            "Epoch 88/100\n",
            "162/162 [==============================] - 0s 1ms/step - loss: 0.1632 - accuracy: 0.7649\n",
            "Epoch 89/100\n",
            "162/162 [==============================] - 0s 1ms/step - loss: 0.1642 - accuracy: 0.7544\n",
            "Epoch 90/100\n",
            "162/162 [==============================] - 0s 1ms/step - loss: 0.1715 - accuracy: 0.7484\n",
            "Epoch 91/100\n",
            "162/162 [==============================] - 0s 1ms/step - loss: 0.1613 - accuracy: 0.7511\n",
            "Epoch 92/100\n",
            "162/162 [==============================] - 0s 1ms/step - loss: 0.1639 - accuracy: 0.7610\n",
            "Epoch 93/100\n",
            "162/162 [==============================] - 0s 1ms/step - loss: 0.1630 - accuracy: 0.7598\n",
            "Epoch 94/100\n",
            "162/162 [==============================] - 0s 1ms/step - loss: 0.1676 - accuracy: 0.7539\n",
            "Epoch 95/100\n",
            "162/162 [==============================] - 0s 1ms/step - loss: 0.1679 - accuracy: 0.7463\n",
            "Epoch 96/100\n",
            "162/162 [==============================] - 0s 1ms/step - loss: 0.1688 - accuracy: 0.7544\n",
            "Epoch 97/100\n",
            "162/162 [==============================] - 0s 1ms/step - loss: 0.1700 - accuracy: 0.7432\n",
            "Epoch 98/100\n",
            "162/162 [==============================] - 0s 1ms/step - loss: 0.1633 - accuracy: 0.7557\n",
            "Epoch 99/100\n",
            "162/162 [==============================] - 0s 1ms/step - loss: 0.1621 - accuracy: 0.7659\n",
            "Epoch 100/100\n",
            "162/162 [==============================] - 0s 1ms/step - loss: 0.1648 - accuracy: 0.7535\n"
          ],
          "name": "stdout"
        }
      ]
    },
    {
      "cell_type": "markdown",
      "metadata": {
        "id": "MR5-vONbPWBu"
      },
      "source": [
        "# Evaluation"
      ]
    },
    {
      "cell_type": "code",
      "metadata": {
        "colab": {
          "base_uri": "https://localhost:8080/"
        },
        "id": "rqGmYuQbz9oE",
        "outputId": "22a2be1a-ad6b-4e6d-9a81-20d38b3719b0"
      },
      "source": [
        "scores = model.evaluate(X_test, y_test)\n",
        "\n",
        "print(\"\\n%s: %.2f%%\" % (model.metrics_names[1], scores[1]*100))"
      ],
      "execution_count": 21,
      "outputs": [
        {
          "output_type": "stream",
          "text": [
            "41/41 [==============================] - 0s 924us/step - loss: 0.1675 - accuracy: 0.7432\n",
            "\n",
            "accuracy: 74.32%\n"
          ],
          "name": "stdout"
        }
      ]
    },
    {
      "cell_type": "code",
      "metadata": {
        "colab": {
          "base_uri": "https://localhost:8080/"
        },
        "id": "Y8HYJ41-PdfL",
        "outputId": "3b7f7e8b-8bbb-4107-a58e-2de113bc398c"
      },
      "source": [
        "model.summary()"
      ],
      "execution_count": 16,
      "outputs": [
        {
          "output_type": "stream",
          "text": [
            "Model: \"sequential\"\n",
            "_________________________________________________________________\n",
            "Layer (type)                 Output Shape              Param #   \n",
            "=================================================================\n",
            "dense (Dense)                (None, 64)                896       \n",
            "_________________________________________________________________\n",
            "flatten (Flatten)            (None, 64)                0         \n",
            "_________________________________________________________________\n",
            "dense_1 (Dense)              (None, 42)                2730      \n",
            "_________________________________________________________________\n",
            "flatten_1 (Flatten)          (None, 42)                0         \n",
            "_________________________________________________________________\n",
            "dense_2 (Dense)              (None, 16)                688       \n",
            "_________________________________________________________________\n",
            "flatten_2 (Flatten)          (None, 16)                0         \n",
            "_________________________________________________________________\n",
            "dense_3 (Dense)              (None, 1)                 17        \n",
            "=================================================================\n",
            "Total params: 4,331\n",
            "Trainable params: 4,331\n",
            "Non-trainable params: 0\n",
            "_________________________________________________________________\n"
          ],
          "name": "stdout"
        }
      ]
    },
    {
      "cell_type": "markdown",
      "metadata": {
        "id": "WmrFP20BPstk"
      },
      "source": [
        "## Plots"
      ]
    },
    {
      "cell_type": "code",
      "metadata": {
        "colab": {
          "base_uri": "https://localhost:8080/"
        },
        "id": "haKC2YW6PvFC",
        "outputId": "bde385f5-61ef-40f5-b34f-f1454fadf98f"
      },
      "source": [
        "print(history.history.keys())"
      ],
      "execution_count": 17,
      "outputs": [
        {
          "output_type": "stream",
          "text": [
            "dict_keys(['loss', 'accuracy'])\n"
          ],
          "name": "stdout"
        }
      ]
    },
    {
      "cell_type": "code",
      "metadata": {
        "colab": {
          "base_uri": "https://localhost:8080/",
          "height": 295
        },
        "id": "kQo35nKBPyin",
        "outputId": "ad0a6350-095e-4b93-a2e9-ad4b9e9c4334"
      },
      "source": [
        "loss = history.history['loss']\n",
        "accuracy = history.history['accuracy']\n",
        "\n",
        "fig, axs = plt.subplots(nrows=1,ncols=2,figsize=(10,4))\n",
        "axs[0].plot(range(len(loss)), loss)\n",
        "axs[0].set(xlabel=\"Epochs\", ylabel=\"Loss\", title=\"Training loss\")\n",
        "axs[1].plot(range(len(accuracy)), accuracy)\n",
        "axs[1].set(xlabel=\"Epochs\", ylabel=\"Accuracy\", title=\"Training accuracy\")\n",
        "plt.show()"
      ],
      "execution_count": 18,
      "outputs": [
        {
          "output_type": "display_data",
          "data": {
            "image/png": "[encoded data removed]",
            "text/plain": [
              "<Figure size 720x288 with 2 Axes>"
            ]
          },
          "metadata": {
            "tags": [],
            "needs_background": "light"
          }
        }
      ]
    }
  ]
}